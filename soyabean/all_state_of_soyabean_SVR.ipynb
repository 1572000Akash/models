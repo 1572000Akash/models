{
 "cells": [
  {
   "cell_type": "code",
   "execution_count": 1,
   "metadata": {
    "collapsed": true
   },
   "outputs": [],
   "source": [
    "#import module\n",
    "import numpy as np\n",
    "import pandas as pd\n",
    "import matplotlib.pyplot as plt"
   ]
  },
  {
   "cell_type": "code",
   "execution_count": 2,
   "metadata": {
    "collapsed": true
   },
   "outputs": [],
   "source": [
    "#read CSV file\n",
    "soya = pd.read_csv(\"soyabeanfinaldata.csv\")"
   ]
  },
  {
   "cell_type": "code",
   "execution_count": 3,
   "metadata": {},
   "outputs": [
    {
     "data": {
      "text/html": [
       "<div>\n",
       "<style scoped>\n",
       "    .dataframe tbody tr th:only-of-type {\n",
       "        vertical-align: middle;\n",
       "    }\n",
       "\n",
       "    .dataframe tbody tr th {\n",
       "        vertical-align: top;\n",
       "    }\n",
       "\n",
       "    .dataframe thead th {\n",
       "        text-align: right;\n",
       "    }\n",
       "</style>\n",
       "<table border=\"1\" class=\"dataframe\">\n",
       "  <thead>\n",
       "    <tr style=\"text-align: right;\">\n",
       "      <th></th>\n",
       "      <th>State</th>\n",
       "      <th>District</th>\n",
       "      <th>Arrival_date</th>\n",
       "      <th>Variety</th>\n",
       "      <th>Amount Sold</th>\n",
       "      <th>Modal_price</th>\n",
       "    </tr>\n",
       "  </thead>\n",
       "  <tbody>\n",
       "    <tr>\n",
       "      <th>0</th>\n",
       "      <td>Chattisgarh</td>\n",
       "      <td>Balodabazar</td>\n",
       "      <td>Apr</td>\n",
       "      <td>Other</td>\n",
       "      <td>3.1</td>\n",
       "      <td>2933.333333</td>\n",
       "    </tr>\n",
       "    <tr>\n",
       "      <th>1</th>\n",
       "      <td>Chattisgarh</td>\n",
       "      <td>Balodabazar</td>\n",
       "      <td>Feb</td>\n",
       "      <td>Other</td>\n",
       "      <td>15.5</td>\n",
       "      <td>3182.928571</td>\n",
       "    </tr>\n",
       "    <tr>\n",
       "      <th>2</th>\n",
       "      <td>Chattisgarh</td>\n",
       "      <td>Balodabazar</td>\n",
       "      <td>Jan</td>\n",
       "      <td>Other</td>\n",
       "      <td>6.9</td>\n",
       "      <td>3144.666667</td>\n",
       "    </tr>\n",
       "    <tr>\n",
       "      <th>3</th>\n",
       "      <td>Chattisgarh</td>\n",
       "      <td>Balodabazar</td>\n",
       "      <td>Jul</td>\n",
       "      <td>Other</td>\n",
       "      <td>1.5</td>\n",
       "      <td>3139.750000</td>\n",
       "    </tr>\n",
       "    <tr>\n",
       "      <th>4</th>\n",
       "      <td>Chattisgarh</td>\n",
       "      <td>Balodabazar</td>\n",
       "      <td>Jun</td>\n",
       "      <td>Other</td>\n",
       "      <td>1.3</td>\n",
       "      <td>3160.666667</td>\n",
       "    </tr>\n",
       "  </tbody>\n",
       "</table>\n",
       "</div>"
      ],
      "text/plain": [
       "         State     District Arrival_date Variety  Amount Sold  Modal_price\n",
       "0  Chattisgarh  Balodabazar          Apr   Other          3.1  2933.333333\n",
       "1  Chattisgarh  Balodabazar          Feb   Other         15.5  3182.928571\n",
       "2  Chattisgarh  Balodabazar          Jan   Other          6.9  3144.666667\n",
       "3  Chattisgarh  Balodabazar          Jul   Other          1.5  3139.750000\n",
       "4  Chattisgarh  Balodabazar          Jun   Other          1.3  3160.666667"
      ]
     },
     "execution_count": 3,
     "metadata": {},
     "output_type": "execute_result"
    }
   ],
   "source": [
    "soya.head()"
   ]
  },
  {
   "cell_type": "code",
   "execution_count": 4,
   "metadata": {
    "collapsed": true
   },
   "outputs": [],
   "source": [
    "# create dependent and independent variable\n",
    "X = soya.iloc[: , :-1].values\n",
    "y = soya.iloc[:,5].values"
   ]
  },
  {
   "cell_type": "code",
   "execution_count": 5,
   "metadata": {
    "collapsed": true
   },
   "outputs": [],
   "source": [
    "#Lable Encode first column\n",
    "from sklearn.preprocessing import LabelEncoder , OneHotEncoder\n",
    "labelencoder_X = LabelEncoder()\n",
    "X[:,0] = labelencoder_X.fit_transform(X[:,0])"
   ]
  },
  {
   "cell_type": "code",
   "execution_count": 6,
   "metadata": {},
   "outputs": [
    {
     "data": {
      "text/plain": [
       "array([[0, 'Balodabazar', 'Apr', 'Other', 3.1],\n",
       "       [0, 'Balodabazar', 'Feb', 'Other', 15.5],\n",
       "       [0, 'Balodabazar', 'Jan', 'Other', 6.9],\n",
       "       ...,\n",
       "       [7, 'Lalitpur', 'Nov', 'Yellow', 8191.0],\n",
       "       [7, 'Lalitpur', 'Oct', 'Yellow', 329.5],\n",
       "       [7, 'Lalitpur', 'Sep', 'Yellow', 80.4]], dtype=object)"
      ]
     },
     "execution_count": 6,
     "metadata": {},
     "output_type": "execute_result"
    }
   ],
   "source": [
    "X"
   ]
  },
  {
   "cell_type": "code",
   "execution_count": 7,
   "metadata": {
    "collapsed": true
   },
   "outputs": [],
   "source": [
    "#Lable Encode second column\n",
    "from sklearn.preprocessing import LabelEncoder , OneHotEncoder\n",
    "labelencoder_X = LabelEncoder()\n",
    "X[:,1] = labelencoder_X.fit_transform(X[:,1])"
   ]
  },
  {
   "cell_type": "code",
   "execution_count": 8,
   "metadata": {},
   "outputs": [
    {
     "data": {
      "text/plain": [
       "array([[0, 9, 'Apr', 'Other', 3.1],\n",
       "       [0, 9, 'Feb', 'Other', 15.5],\n",
       "       [0, 9, 'Jan', 'Other', 6.9],\n",
       "       ...,\n",
       "       [7, 59, 'Nov', 'Yellow', 8191.0],\n",
       "       [7, 59, 'Oct', 'Yellow', 329.5],\n",
       "       [7, 59, 'Sep', 'Yellow', 80.4]], dtype=object)"
      ]
     },
     "execution_count": 8,
     "metadata": {},
     "output_type": "execute_result"
    }
   ],
   "source": [
    "X"
   ]
  },
  {
   "cell_type": "code",
   "execution_count": 9,
   "metadata": {
    "collapsed": true
   },
   "outputs": [],
   "source": [
    "#Lable Encode Third column\n",
    "from sklearn.preprocessing import LabelEncoder , OneHotEncoder\n",
    "labelencoder_X = LabelEncoder()\n",
    "X[:,2] = labelencoder_X.fit_transform(X[:,2])"
   ]
  },
  {
   "cell_type": "code",
   "execution_count": 10,
   "metadata": {},
   "outputs": [
    {
     "data": {
      "text/plain": [
       "array([[0, 9, 0, 'Other', 3.1],\n",
       "       [0, 9, 2, 'Other', 15.5],\n",
       "       [0, 9, 3, 'Other', 6.9],\n",
       "       ...,\n",
       "       [7, 59, 8, 'Yellow', 8191.0],\n",
       "       [7, 59, 9, 'Yellow', 329.5],\n",
       "       [7, 59, 10, 'Yellow', 80.4]], dtype=object)"
      ]
     },
     "execution_count": 10,
     "metadata": {},
     "output_type": "execute_result"
    }
   ],
   "source": [
    "X"
   ]
  },
  {
   "cell_type": "code",
   "execution_count": 11,
   "metadata": {
    "collapsed": true
   },
   "outputs": [],
   "source": [
    "#Lable Encode fourth column\n",
    "from sklearn.preprocessing import LabelEncoder , OneHotEncoder\n",
    "labelencoder_X = LabelEncoder()\n",
    "X[:,3] = labelencoder_X.fit_transform(X[:,3])"
   ]
  },
  {
   "cell_type": "code",
   "execution_count": 12,
   "metadata": {},
   "outputs": [
    {
     "data": {
      "text/plain": [
       "array([[0, 9, 0, 2, 3.1],\n",
       "       [0, 9, 2, 2, 15.5],\n",
       "       [0, 9, 3, 2, 6.9],\n",
       "       ...,\n",
       "       [7, 59, 8, 5, 8191.0],\n",
       "       [7, 59, 9, 5, 329.5],\n",
       "       [7, 59, 10, 5, 80.4]], dtype=object)"
      ]
     },
     "execution_count": 12,
     "metadata": {},
     "output_type": "execute_result"
    }
   ],
   "source": [
    "X"
   ]
  },
  {
   "cell_type": "code",
   "execution_count": 14,
   "metadata": {},
   "outputs": [],
   "source": [
    "#take onehotencoder\n",
    "onehotencoder = OneHotEncoder(categorical_features = [0])\n",
    "X =  onehotencoder.fit_transform(X).toarray()"
   ]
  },
  {
   "cell_type": "code",
   "execution_count": null,
   "metadata": {
    "collapsed": true
   },
   "outputs": [],
   "source": [
    "X"
   ]
  },
  {
   "cell_type": "code",
   "execution_count": null,
   "metadata": {
    "collapsed": true
   },
   "outputs": [],
   "source": [
    "pd.DataFrame(X)"
   ]
  },
  {
   "cell_type": "code",
   "execution_count": null,
   "metadata": {
    "collapsed": true
   },
   "outputs": [],
   "source": [
    "#take onehotencoder\n",
    "onehotencoder = OneHotEncoder(categorical_features = [8])\n",
    "X =  onehotencoder.fit_transform(X).toarray()"
   ]
  },
  {
   "cell_type": "code",
   "execution_count": null,
   "metadata": {
    "collapsed": true
   },
   "outputs": [],
   "source": [
    "pd.DataFrame(X)"
   ]
  },
  {
   "cell_type": "code",
   "execution_count": null,
   "metadata": {
    "collapsed": true
   },
   "outputs": [],
   "source": [
    "#take onehotencoder\n",
    "onehotencoder = OneHotEncoder(categorical_features = [114])\n",
    "X =  onehotencoder.fit_transform(X).toarray()"
   ]
  },
  {
   "cell_type": "code",
   "execution_count": null,
   "metadata": {
    "collapsed": true
   },
   "outputs": [],
   "source": [
    "#take onehotencoder\n",
    "onehotencoder = OneHotEncoder(categorical_features = [125])\n",
    "X =  onehotencoder.fit_transform(X).toarray()"
   ]
  },
  {
   "cell_type": "code",
   "execution_count": null,
   "metadata": {
    "collapsed": true
   },
   "outputs": [],
   "source": [
    "pd.DataFrame(X)"
   ]
  },
  {
   "cell_type": "code",
   "execution_count": null,
   "metadata": {
    "collapsed": true
   },
   "outputs": [],
   "source": [
    "# then give data to machine for training and testing\n",
    "from sklearn.model_selection import train_test_split\n",
    "X_train, X_test, y_train, y_test = train_test_split(X, y, test_size = 0.20, random_state = 5)\n"
   ]
  },
  {
   "cell_type": "code",
   "execution_count": null,
   "metadata": {
    "collapsed": true
   },
   "outputs": [],
   "source": [
    "X=pd.DataFrame(X)\n",
    "X"
   ]
  },
  {
   "cell_type": "code",
   "execution_count": null,
   "metadata": {
    "collapsed": true
   },
   "outputs": [],
   "source": [
    "y=pd.DataFrame(y)\n",
    "y"
   ]
  },
  {
   "cell_type": "code",
   "execution_count": null,
   "metadata": {
    "collapsed": true
   },
   "outputs": [],
   "source": [
    "y  =  np.reshape(y, (-1,1))"
   ]
  },
  {
   "cell_type": "code",
   "execution_count": null,
   "metadata": {
    "collapsed": true
   },
   "outputs": [],
   "source": [
    "# create feature scaling\n",
    "from sklearn.preprocessing import StandardScaler\n",
    "sc_x = StandardScaler()\n",
    "sc_y =  StandardScaler()\n",
    "X = sc_x.fit_transform(X)\n",
    "y = sc_y.fit_transform(y)"
   ]
  },
  {
   "cell_type": "code",
   "execution_count": null,
   "metadata": {
    "collapsed": true
   },
   "outputs": [],
   "source": [
    "# By using SVR\n",
    "from sklearn.svm import SVR\n",
    "regressor = SVR(kernel='rbf')\n",
    "regressor.fit(X,y)"
   ]
  },
  {
   "cell_type": "code",
   "execution_count": null,
   "metadata": {
    "collapsed": true
   },
   "outputs": [],
   "source": [
    "#predict data\n",
    "y_predict = regressor.predict(sc_x.fit_transform(X_test))\n",
    "y_predict = sc_y.inverse_transform(y_predict)"
   ]
  },
  {
   "cell_type": "code",
   "execution_count": null,
   "metadata": {
    "collapsed": true
   },
   "outputs": [],
   "source": [
    "y_predict"
   ]
  },
  {
   "cell_type": "code",
   "execution_count": null,
   "metadata": {
    "collapsed": true
   },
   "outputs": [],
   "source": [
    "y_test"
   ]
  },
  {
   "cell_type": "code",
   "execution_count": null,
   "metadata": {
    "collapsed": true
   },
   "outputs": [],
   "source": [
    "# polt data between actual price and predict price\n",
    "import matplotlib.pyplot as plt\n",
    "plt.figure(figsize=(16,12))\n",
    "plt.plot(y_test,label='actual_data',color='blue')\n",
    "plt.plot(y_predict,label='yPredict_data',color='red')\n",
    "plt.title(\" polt data between actual price and predict price by SVR\")\n",
    "plt.legend()\n",
    "plt.show()"
   ]
  },
  {
   "cell_type": "code",
   "execution_count": null,
   "metadata": {
    "collapsed": true
   },
   "outputs": [],
   "source": [
    "# polt data between actual price and predict price\n",
    "import matplotlib.pyplot as plt\n",
    "plt.figure(figsize=(16,12))\n",
    "plt.scatter(y_test,y_predict,label='actual_data',color='blue')\n",
    "plt.plot(y_predict,label='yPredict_data',color='red')\n",
    "plt.title(\" polt data between actual price and predict price by SVR\")\n",
    "plt.legend()\n",
    "plt.show()"
   ]
  },
  {
   "cell_type": "code",
   "execution_count": null,
   "metadata": {
    "collapsed": true
   },
   "outputs": [],
   "source": []
  }
 ],
 "metadata": {
  "kernelspec": {
   "display_name": "Python 3",
   "language": "python",
   "name": "python3"
  },
  "language_info": {
   "codemirror_mode": {
    "name": "ipython",
    "version": 3
   },
   "file_extension": ".py",
   "mimetype": "text/x-python",
   "name": "python",
   "nbconvert_exporter": "python",
   "pygments_lexer": "ipython3",
   "version": "3.6.3"
  }
 },
 "nbformat": 4,
 "nbformat_minor": 2
}
