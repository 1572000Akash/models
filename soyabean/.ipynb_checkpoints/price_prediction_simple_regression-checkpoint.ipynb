{
 "cells": [
  {
   "cell_type": "code",
   "execution_count": 1,
   "metadata": {
    "collapsed": true
   },
   "outputs": [],
   "source": [
    "import pandas as pd\n",
    "import numpy as np\n",
    "import matplotlib.pyplot as plt"
   ]
  },
  {
   "cell_type": "code",
   "execution_count": 2,
   "metadata": {
    "collapsed": true
   },
   "outputs": [],
   "source": [
    "data=pd.read_csv(\"combine_MP_MH_RJ.csv\")"
   ]
  },
  {
   "cell_type": "code",
   "execution_count": 3,
   "metadata": {},
   "outputs": [
    {
     "data": {
      "text/html": [
       "<div>\n",
       "<style>\n",
       "    .dataframe thead tr:only-child th {\n",
       "        text-align: right;\n",
       "    }\n",
       "\n",
       "    .dataframe thead th {\n",
       "        text-align: left;\n",
       "    }\n",
       "\n",
       "    .dataframe tbody tr th {\n",
       "        vertical-align: top;\n",
       "    }\n",
       "</style>\n",
       "<table border=\"1\" class=\"dataframe\">\n",
       "  <thead>\n",
       "    <tr style=\"text-align: right;\">\n",
       "      <th></th>\n",
       "      <th>State</th>\n",
       "      <th>district</th>\n",
       "      <th>arrival_date</th>\n",
       "      <th>Sold_Amount</th>\n",
       "      <th>esti.yeild</th>\n",
       "      <th>modal_price/Quintol</th>\n",
       "    </tr>\n",
       "  </thead>\n",
       "  <tbody>\n",
       "    <tr>\n",
       "      <th>0</th>\n",
       "      <td>MH</td>\n",
       "      <td>Yavatmal</td>\n",
       "      <td>Jan</td>\n",
       "      <td>10562.0</td>\n",
       "      <td>1072</td>\n",
       "      <td>3530.753968</td>\n",
       "    </tr>\n",
       "    <tr>\n",
       "      <th>1</th>\n",
       "      <td>MH</td>\n",
       "      <td>Wardha</td>\n",
       "      <td>Jan</td>\n",
       "      <td>14262.0</td>\n",
       "      <td>826</td>\n",
       "      <td>3485.069565</td>\n",
       "    </tr>\n",
       "    <tr>\n",
       "      <th>2</th>\n",
       "      <td>MH</td>\n",
       "      <td>Vashim</td>\n",
       "      <td>Jan</td>\n",
       "      <td>39718.0</td>\n",
       "      <td>1163</td>\n",
       "      <td>3598.535354</td>\n",
       "    </tr>\n",
       "    <tr>\n",
       "      <th>3</th>\n",
       "      <td>MH</td>\n",
       "      <td>Nashik</td>\n",
       "      <td>Jan</td>\n",
       "      <td>1016.0</td>\n",
       "      <td>961</td>\n",
       "      <td>3633.792453</td>\n",
       "    </tr>\n",
       "    <tr>\n",
       "      <th>4</th>\n",
       "      <td>MH</td>\n",
       "      <td>Latur</td>\n",
       "      <td>Jan</td>\n",
       "      <td>46647.0</td>\n",
       "      <td>869</td>\n",
       "      <td>3618.863636</td>\n",
       "    </tr>\n",
       "  </tbody>\n",
       "</table>\n",
       "</div>"
      ],
      "text/plain": [
       "  State  district arrival_date  Sold_Amount  esti.yeild  modal_price/Quintol\n",
       "0    MH  Yavatmal          Jan      10562.0        1072          3530.753968\n",
       "1    MH    Wardha          Jan      14262.0         826          3485.069565\n",
       "2    MH    Vashim          Jan      39718.0        1163          3598.535354\n",
       "3    MH    Nashik          Jan       1016.0         961          3633.792453\n",
       "4    MH     Latur          Jan      46647.0         869          3618.863636"
      ]
     },
     "execution_count": 3,
     "metadata": {},
     "output_type": "execute_result"
    }
   ],
   "source": [
    "data.head()"
   ]
  },
  {
   "cell_type": "code",
   "execution_count": 4,
   "metadata": {
    "collapsed": true
   },
   "outputs": [],
   "source": [
    "X = data.iloc[: , :-1].values\n",
    "y = data.iloc[:,5].values"
   ]
  },
  {
   "cell_type": "code",
   "execution_count": 5,
   "metadata": {
    "collapsed": true
   },
   "outputs": [],
   "source": [
    "from sklearn.preprocessing import LabelEncoder , OneHotEncoder\n",
    "labelencoder_X = LabelEncoder()\n",
    "X[:,0] = labelencoder_X.fit_transform(X[:,0])"
   ]
  },
  {
   "cell_type": "code",
   "execution_count": 6,
   "metadata": {
    "collapsed": true
   },
   "outputs": [],
   "source": [
    "from sklearn.preprocessing import LabelEncoder , OneHotEncoder\n",
    "labelencoder_X = LabelEncoder()\n",
    "X[:, 1] = labelencoder_X.fit_transform(X[:, 1])"
   ]
  },
  {
   "cell_type": "code",
   "execution_count": 7,
   "metadata": {
    "collapsed": true
   },
   "outputs": [],
   "source": [
    "from sklearn.preprocessing import LabelEncoder , OneHotEncoder\n",
    "labelencoder_X = LabelEncoder()\n",
    "X[:, 2] = labelencoder_X.fit_transform(X[:, 2])"
   ]
  },
  {
   "cell_type": "code",
   "execution_count": 8,
   "metadata": {
    "collapsed": true
   },
   "outputs": [],
   "source": [
    "onehotencoder = OneHotEncoder(categorical_features = [0])\n",
    "X =  onehotencoder.fit_transform(X).toarray()"
   ]
  },
  {
   "cell_type": "code",
   "execution_count": 9,
   "metadata": {
    "collapsed": true
   },
   "outputs": [],
   "source": [
    "onehotencoder = OneHotEncoder(categorical_features = [3])\n",
    "X =  onehotencoder.fit_transform(X).toarray()"
   ]
  },
  {
   "cell_type": "code",
   "execution_count": 10,
   "metadata": {
    "collapsed": true
   },
   "outputs": [],
   "source": [
    "onehotencoder = OneHotEncoder(categorical_features = [32])\n",
    "X =  onehotencoder.fit_transform(X).toarray()"
   ]
  },
  {
   "cell_type": "code",
   "execution_count": 11,
   "metadata": {
    "collapsed": true
   },
   "outputs": [],
   "source": [
    "from sklearn.model_selection import train_test_split\n",
    "X_train, X_test, y_train, y_test = train_test_split(X, y, test_size = 0.20, random_state = 5)\n"
   ]
  },
  {
   "cell_type": "code",
   "execution_count": 12,
   "metadata": {
    "collapsed": true
   },
   "outputs": [],
   "source": [
    "X =pd.DataFrame(X)"
   ]
  },
  {
   "cell_type": "code",
   "execution_count": 13,
   "metadata": {},
   "outputs": [
    {
     "data": {
      "text/plain": [
       "'X_test=X.iloc[0:10,:]\\nX_test'"
      ]
     },
     "execution_count": 13,
     "metadata": {},
     "output_type": "execute_result"
    }
   ],
   "source": [
    "\"\"\"X_test=X.iloc[0:10,:]\n",
    "X_test\"\"\""
   ]
  },
  {
   "cell_type": "code",
   "execution_count": 14,
   "metadata": {
    "collapsed": true
   },
   "outputs": [],
   "source": [
    "y = pd.DataFrame(y)"
   ]
  },
  {
   "cell_type": "code",
   "execution_count": 15,
   "metadata": {},
   "outputs": [
    {
     "data": {
      "text/plain": [
       "'y_test=y.iloc[:,:]\\ny_test'"
      ]
     },
     "execution_count": 15,
     "metadata": {},
     "output_type": "execute_result"
    }
   ],
   "source": [
    "\"\"\"y_test=y.iloc[:,:]\n",
    "y_test\"\"\""
   ]
  },
  {
   "cell_type": "code",
   "execution_count": 16,
   "metadata": {},
   "outputs": [
    {
     "data": {
      "text/plain": [
       "array([3415.807692, 3318.      , 3562.613861, 3642.227273, 3425.      ,\n",
       "       3063.      , 3575.278689, 3503.415929, 3517.211382, 3534.638298,\n",
       "       3480.538462, 3523.035714, 3482.722222, 3510.906977, 3530.6     ,\n",
       "       3346.178571, 3480.827586, 3535.316667, 3478.925926, 3435.9375  ,\n",
       "       3604.13253 , 3452.73494 , 3477.407407, 3603.6     , 3436.459016,\n",
       "       3467.485915, 3541.25    , 3529.25    , 3389.285714, 3453.625   ,\n",
       "       3551.548387, 3475.550562, 3516.8     , 3515.619048, 3424.655172,\n",
       "       3586.928571, 3430.857143, 3513.592233, 3596.959184, 3498.071429,\n",
       "       3467.08    , 3363.      , 3420.631579, 3534.137931, 3550.031088,\n",
       "       3430.963303, 3515.6     , 3479.166667, 3497.772727, 3550.591837,\n",
       "       3460.525424, 3555.      , 3543.467532, 3548.6     , 3552.031847,\n",
       "       3545.681818, 3458.737864, 3656.770115, 3550.2625  , 3530.485294,\n",
       "       3575.09589 , 3397.615385, 3427.269231, 3550.      , 3616.666667,\n",
       "       3598.535354, 3583.037037, 3546.29703 , 3544.11236 , 3633.792453,\n",
       "       3382.      , 3523.753846, 3590.928571, 3299.372222, 3550.      ,\n",
       "       3483.722222, 3529.809524, 3588.5     , 3542.280488, 3571.5     ,\n",
       "       3520.0625  , 3407.      , 3647.097561, 3547.064516, 3514.954545,\n",
       "       3551.222222, 3572.151515, 3565.793893, 3501.733333, 3494.102564,\n",
       "       3500.      , 3471.681818, 3265.956098, 3545.027397, 3560.442308,\n",
       "       3067.351701, 3544.8     , 3469.136842, 3509.740741, 3553.1     ,\n",
       "       3513.672414, 3442.708333, 3511.85    , 3545.619048, 3592.931034,\n",
       "       3450.      , 3541.166667, 3571.747967, 3534.673469, 3586.8125  ,\n",
       "       3611.75    , 3523.483333, 3506.731481, 3571.407407, 3444.761905,\n",
       "       3512.872093, 3507.793103, 3605.459459, 3315.      , 3523.975728,\n",
       "       3523.488372, 3485.069565, 3676.151515, 3624.387097, 3532.883598,\n",
       "       3530.753968, 3464.363636, 3597.609091, 3575.407407, 3596.769231,\n",
       "       3291.      , 3486.066667, 3497.45283 , 3458.346154, 3503.2     ,\n",
       "       3475.155738, 3590.125   , 3499.086957, 3280.304615, 3534.838384,\n",
       "       3536.066667, 3423.162162, 3450.      , 3431.343284, 3513.54717 ,\n",
       "       3476.622951, 3522.471429, 3503.35    , 3516.868421, 3509.346154,\n",
       "       3500.      , 3453.842857, 3580.150442, 3488.98    , 3539.423077,\n",
       "       3578.277778, 3495.741935, 3425.413043, 3431.782051, 3559.76    ,\n",
       "       3586.545455, 3618.863636, 3592.019608, 3278.666667, 3463.964286,\n",
       "       3440.777778, 3420.571429, 3503.046154, 3449.347368, 3396.75    ,\n",
       "       3519.439394, 3505.5     , 3562.238636, 3505.595041, 3535.917808,\n",
       "       3552.836207, 3511.416667, 3525.675676, 3419.063492, 3452.214286,\n",
       "       3562.283019, 3479.193548, 3093.682143, 3476.973684, 3311.702703,\n",
       "       3475.769231, 3499.740741, 3492.86    , 3750.      , 3441.946429,\n",
       "       3564.137931, 3357.860215, 3500.041667, 3275.      , 3462.809524,\n",
       "       3607.105769, 3498.8125  , 3458.358974, 3619.938053, 3491.846154,\n",
       "       3495.888889, 3543.475   , 3572.311688, 3416.032967, 3447.295455,\n",
       "       3620.333333, 3506.666667, 3441.71875 , 3433.087179, 3527.282609,\n",
       "       3550.      , 3487.876712, 3325.      , 3572.941176, 3542.      ,\n",
       "       3562.6     , 3456.277778, 3396.483871, 3468.55    , 3438.471429,\n",
       "       3000.      , 3414.3125  , 3665.565217, 3459.529412, 3488.366667,\n",
       "       3550.967391, 3610.772727, 3566.957547, 3528.090909, 3587.5     ,\n",
       "       3360.      , 3605.895522, 3591.666667, 3520.1     , 3634.844444,\n",
       "       3484.136364, 3508.305085, 3562.44086 , 3475.152174, 3483.772727,\n",
       "       3381.458333, 3514.917808, 3432.686486, 3100.      , 3329.820755,\n",
       "       3448.550336, 3540.678571, 3525.25    , 3472.857143, 3413.914286,\n",
       "       3465.44898 , 3678.      , 3464.086957, 3475.52381 , 3537.714286,\n",
       "       3511.173913, 3599.133333, 3567.785714, 3270.9     , 3532.380952,\n",
       "       3104.414706, 3547.30303 , 3462.10989 , 3580.777778, 3553.478261,\n",
       "       3376.525424, 3465.5     ])"
      ]
     },
     "execution_count": 16,
     "metadata": {},
     "output_type": "execute_result"
    }
   ],
   "source": [
    "y_train"
   ]
  },
  {
   "cell_type": "code",
   "execution_count": 17,
   "metadata": {},
   "outputs": [
    {
     "data": {
      "text/plain": [
       "LinearRegression(copy_X=True, fit_intercept=True, n_jobs=1, normalize=False)"
      ]
     },
     "execution_count": 17,
     "metadata": {},
     "output_type": "execute_result"
    }
   ],
   "source": [
    "from sklearn.linear_model import LinearRegression\n",
    "lin_reg = LinearRegression()\n",
    "lin_reg.fit(X, y)\n"
   ]
  },
  {
   "cell_type": "code",
   "execution_count": 18,
   "metadata": {},
   "outputs": [
    {
     "data": {
      "text/plain": [
       "array([[3589.54325076],\n",
       "       [3475.17011005],\n",
       "       [3450.60472851],\n",
       "       [3581.39536973],\n",
       "       [3446.015237  ],\n",
       "       [3459.38418987],\n",
       "       [3627.98580698],\n",
       "       [3421.46563039],\n",
       "       [3475.07460264],\n",
       "       [3542.29667292],\n",
       "       [3521.13054495],\n",
       "       [3538.81644976],\n",
       "       [3544.03818788],\n",
       "       [3552.26665105],\n",
       "       [3470.12038962],\n",
       "       [3544.00094669],\n",
       "       [3535.41515098],\n",
       "       [3513.8332613 ],\n",
       "       [3527.09870672],\n",
       "       [3501.7330968 ],\n",
       "       [3574.98327758],\n",
       "       [3396.01125099],\n",
       "       [3521.66605609],\n",
       "       [3509.83428504],\n",
       "       [3500.50337033],\n",
       "       [3437.36196236],\n",
       "       [3072.93703999],\n",
       "       [3285.56029527],\n",
       "       [3415.45998328],\n",
       "       [3536.54764842],\n",
       "       [3413.08465447],\n",
       "       [3612.65590083],\n",
       "       [3418.45155618],\n",
       "       [3475.12190767],\n",
       "       [3500.92089746],\n",
       "       [3523.50747187],\n",
       "       [3064.15580363],\n",
       "       [3458.81094024],\n",
       "       [3559.46540902],\n",
       "       [3466.87048289],\n",
       "       [3440.38700766],\n",
       "       [3565.77495566],\n",
       "       [3489.03102556],\n",
       "       [3529.6936537 ],\n",
       "       [3480.13390365],\n",
       "       [3466.18882764],\n",
       "       [3502.17975411],\n",
       "       [3545.20795419],\n",
       "       [3481.37180441],\n",
       "       [3349.81564729],\n",
       "       [3430.5547125 ],\n",
       "       [3543.39376503],\n",
       "       [3486.67125833],\n",
       "       [3503.6347503 ],\n",
       "       [3526.95624015],\n",
       "       [3578.86705128],\n",
       "       [3541.39739474],\n",
       "       [3443.41062556],\n",
       "       [3424.60675814],\n",
       "       [3579.19367437],\n",
       "       [3441.05108636],\n",
       "       [3528.65278842],\n",
       "       [3384.65507137],\n",
       "       [3464.88886482],\n",
       "       [3541.88556985],\n",
       "       [3402.92601156],\n",
       "       [3505.9253272 ]])"
      ]
     },
     "execution_count": 18,
     "metadata": {},
     "output_type": "execute_result"
    }
   ],
   "source": [
    "y_predict=lin_reg.predict(X_test)\n",
    "y_predict"
   ]
  },
  {
   "cell_type": "code",
   "execution_count": 19,
   "metadata": {},
   "outputs": [
    {
     "data": {
      "image/png": "[encoded data removed]",
      "text/plain": [
       "<matplotlib.figure.Figure at 0x7feb73b06f28>"
      ]
     },
     "metadata": {},
     "output_type": "display_data"
    }
   ],
   "source": [
    "plt.figure(figsize=(16,12))\n",
    "plt.plot(lin_reg.predict(X_test), color = 'blue')\n",
    "plt.plot(y_test, color = 'red')\n",
    "plt.show()"
   ]
  }
 ],
 "metadata": {
  "kernelspec": {
   "display_name": "Python 3",
   "language": "python",
   "name": "python3"
  },
  "language_info": {
   "codemirror_mode": {
    "name": "ipython",
    "version": 3
   },
   "file_extension": ".py",
   "mimetype": "text/x-python",
   "name": "python",
   "nbconvert_exporter": "python",
   "pygments_lexer": "ipython3",
   "version": "3.6.3"
  }
 },
 "nbformat": 4,
 "nbformat_minor": 2
}
