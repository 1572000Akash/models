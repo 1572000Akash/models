{
 "cells": [
  {
   "cell_type": "code",
   "execution_count": 1,
   "metadata": {
    "collapsed": true
   },
   "outputs": [],
   "source": [
    "def input_new(data):\n",
    "    import numpy as np\n",
    "    import pandas as pd\n",
    "    import matplotlib.pyplot as plt\n",
    "   # data=pd.read_csv('data.csv')\n",
    "    X=data.iloc[:-1,:12].values\n",
    "    y=data.iloc[:-1,12].values\n",
    "    #Lable Encode first column\n",
    "    from sklearn.preprocessing import LabelEncoder,OneHotEncoder\n",
    "    labelencoder_X = LabelEncoder()\n",
    "    X[:,0] = labelencoder_X.fit_transform(X[:,0])\n",
    "    X[:,1] = labelencoder_X.fit_transform(X[:,1])\n",
    "    X[:,4] = labelencoder_X.fit_transform(X[:,4])\n",
    "    X[:,7] = labelencoder_X.fit_transform(X[:,7])\n",
    "    #take onehotencoder\n",
    "    onehotencoder = OneHotEncoder(categorical_features = [0,1,4,7])\n",
    "    X =  onehotencoder.fit_transform(X).toarray()\n",
    "    from sklearn.ensemble import RandomForestRegressor\n",
    "    regressor = RandomForestRegressor(n_estimators = 2, random_state = 0)\n",
    "    regressor.fit(X, y)\n",
    "\n",
    "    # Predicting a new result\n",
    "    y_pred = regressor.predict([X[-1]])\n",
    "    data.loc[data.count()-1,'Expected Yield(kg/ha)']=y_pred\n",
    "\n",
    "    return y_pred,data\n"
   ]
  },
  {
   "cell_type": "code",
   "execution_count": 2,
   "metadata": {
    "collapsed": true
   },
   "outputs": [],
   "source": [
    "import numpy as np\n",
    "import pandas as pd\n",
    "import matplotlib.pyplot as plt\n",
    "df=pd.read_csv('soybean2010-2018_final.csv')"
   ]
  },
  {
   "cell_type": "code",
   "execution_count": 3,
   "metadata": {},
   "outputs": [
    {
     "name": "stdout",
     "output_type": "stream",
     "text": [
      "enter the value u want to predict1\n",
      "enter the year2019\n",
      "enter the districtAgar\n",
      "enter the rainfall992\n",
      "enter the estimated product1.039\n",
      "enter the showing area1.380\n",
      "enter the max temperature31.20\n",
      "enter the min temperature24.61\n",
      "enter the avg temperature27.24\n",
      "enter the humi75.21\n",
      "enter the yield0\n"
     ]
    },
    {
     "name": "stderr",
     "output_type": "stream",
     "text": [
      "/home/akash/.local/lib/python3.6/site-packages/pandas/core/frame.py:7138: FutureWarning: Sorting because non-concatenation axis is not aligned. A future version\n",
      "of pandas will change to not sort by default.\n",
      "\n",
      "To accept the future behavior, pass 'sort=False'.\n",
      "\n",
      "To retain the current behavior and silence the warning, pass 'sort=True'.\n",
      "\n",
      "  sort=sort,\n"
     ]
    }
   ],
   "source": [
    "user_input=int(input(\"enter the value u want to predict\"))\n",
    "for i in range(1,user_input+1):\n",
    "    year=int(input(\"enter the year\"))\n",
    "    dist=str(input(\"enter the district\"))\n",
    "    rain=eval(input(\"enter the rainfall\"))\n",
    "    esti_prod=eval(input(\"enter the estimated product\"))\n",
    "    showing=eval(input(\"enter the showing area\"))\n",
    "    maxtemp=eval(input(\"enter the max temperature\"))\n",
    "    mintemp=eval(input(\"enter the min temperature\"))\n",
    "    avgtemp=eval(input(\"enter the avg temperature\"))\n",
    "    humi=eval(input(\"enter the humi\"))\n",
    "    yiel=eval(input(\"enter the yield\"))\n",
    "    ind=0\n",
    "    for j in range(0,161):\n",
    "        if(df[\"District\"][j]==dist):\n",
    "            ind=j\n",
    "            break\n",
    "    soil_t =df[df['District']==dist]['Soil_types'].head(1)[ind]\n",
    "    basin =df[df['District']==dist]['Basins'].head(1)[ind]\n",
    "    alti =df[df['District']==dist]['Altitude(m)'].head(1)[ind]\n",
    "    df1=pd.DataFrame({'Year': year,'District':dist,'Sowing Area(Lakh ha)':showing,'Rainfall(mm)':rain,'Soil_types':soil_t ,'Estimated Production(Lakh metric tonnes)':esti_prod,'Basins':basin ,'Humidity(%)':humi,'Altitude(m)': alti,'Max Temperature':maxtemp,'Min Temperature':mintemp,'Avg Temperature':avgtemp,'Expected Yield(kg/ha)':yiel},index=[len(df)+i])\n",
    "    df=df.append(df1)"
   ]
  },
  {
   "cell_type": "code",
   "execution_count": 7,
   "metadata": {
    "collapsed": true
   },
   "outputs": [],
   "source": [
    "df = df[['Year','District','Sowing Area(Lakh ha)','Estimated Production(Lakh metric tonnes)','Soil_types','Altitude(m)','Humidity(%)','Basins','Rainfall(mm)','Max Temperature','Min Temperature','Avg Temperature','Expected Yield(kg/ha)']]"
   ]
  },
  {
   "cell_type": "code",
   "execution_count": 8,
   "metadata": {},
   "outputs": [
    {
     "data": {
      "text/html": [
       "<div>\n",
       "<style scoped>\n",
       "    .dataframe tbody tr th:only-of-type {\n",
       "        vertical-align: middle;\n",
       "    }\n",
       "\n",
       "    .dataframe tbody tr th {\n",
       "        vertical-align: top;\n",
       "    }\n",
       "\n",
       "    .dataframe thead th {\n",
       "        text-align: right;\n",
       "    }\n",
       "</style>\n",
       "<table border=\"1\" class=\"dataframe\">\n",
       "  <thead>\n",
       "    <tr style=\"text-align: right;\">\n",
       "      <th></th>\n",
       "      <th>Year</th>\n",
       "      <th>District</th>\n",
       "      <th>Sowing Area(Lakh ha)</th>\n",
       "      <th>Estimated Production(Lakh metric tonnes)</th>\n",
       "      <th>Soil_types</th>\n",
       "      <th>Altitude(m)</th>\n",
       "      <th>Humidity(%)</th>\n",
       "      <th>Basins</th>\n",
       "      <th>Rainfall(mm)</th>\n",
       "      <th>Max Temperature</th>\n",
       "      <th>Min Temperature</th>\n",
       "      <th>Avg Temperature</th>\n",
       "      <th>Expected Yield(kg/ha)</th>\n",
       "    </tr>\n",
       "  </thead>\n",
       "  <tbody>\n",
       "    <tr>\n",
       "      <th>0</th>\n",
       "      <td>2010</td>\n",
       "      <td>Ujjain</td>\n",
       "      <td>4.435</td>\n",
       "      <td>5.526</td>\n",
       "      <td>Medium Black</td>\n",
       "      <td>494</td>\n",
       "      <td>70.75</td>\n",
       "      <td>Chambal Basin</td>\n",
       "      <td>713.5</td>\n",
       "      <td>32.50</td>\n",
       "      <td>24.00</td>\n",
       "      <td>27.75</td>\n",
       "      <td>1246.0</td>\n",
       "    </tr>\n",
       "    <tr>\n",
       "      <th>1</th>\n",
       "      <td>2010</td>\n",
       "      <td>Mandsaur</td>\n",
       "      <td>2.580</td>\n",
       "      <td>2.830</td>\n",
       "      <td>Medium Black</td>\n",
       "      <td>440</td>\n",
       "      <td>67.25</td>\n",
       "      <td>Chambal Basin</td>\n",
       "      <td>676.8</td>\n",
       "      <td>33.75</td>\n",
       "      <td>25.00</td>\n",
       "      <td>28.75</td>\n",
       "      <td>1097.0</td>\n",
       "    </tr>\n",
       "    <tr>\n",
       "      <th>2</th>\n",
       "      <td>2010</td>\n",
       "      <td>Neemuch</td>\n",
       "      <td>1.250</td>\n",
       "      <td>1.489</td>\n",
       "      <td>Medium Black</td>\n",
       "      <td>452</td>\n",
       "      <td>65.25</td>\n",
       "      <td>Chambal Basin</td>\n",
       "      <td>821.7</td>\n",
       "      <td>33.75</td>\n",
       "      <td>25.00</td>\n",
       "      <td>29.00</td>\n",
       "      <td>1191.0</td>\n",
       "    </tr>\n",
       "    <tr>\n",
       "      <th>3</th>\n",
       "      <td>2010</td>\n",
       "      <td>Ratlam</td>\n",
       "      <td>2.046</td>\n",
       "      <td>2.508</td>\n",
       "      <td>Medium Black</td>\n",
       "      <td>480</td>\n",
       "      <td>70.50</td>\n",
       "      <td>Chambal Basin</td>\n",
       "      <td>689.0</td>\n",
       "      <td>33.25</td>\n",
       "      <td>24.25</td>\n",
       "      <td>28.00</td>\n",
       "      <td>1226.0</td>\n",
       "    </tr>\n",
       "    <tr>\n",
       "      <th>4</th>\n",
       "      <td>2010</td>\n",
       "      <td>Dewas</td>\n",
       "      <td>3.181</td>\n",
       "      <td>3.722</td>\n",
       "      <td>Medium Black</td>\n",
       "      <td>535</td>\n",
       "      <td>72.50</td>\n",
       "      <td>Narmada Basin</td>\n",
       "      <td>785.1</td>\n",
       "      <td>32.25</td>\n",
       "      <td>24.00</td>\n",
       "      <td>27.75</td>\n",
       "      <td>1170.0</td>\n",
       "    </tr>\n",
       "    <tr>\n",
       "      <th>...</th>\n",
       "      <td>...</td>\n",
       "      <td>...</td>\n",
       "      <td>...</td>\n",
       "      <td>...</td>\n",
       "      <td>...</td>\n",
       "      <td>...</td>\n",
       "      <td>...</td>\n",
       "      <td>...</td>\n",
       "      <td>...</td>\n",
       "      <td>...</td>\n",
       "      <td>...</td>\n",
       "      <td>...</td>\n",
       "      <td>...</td>\n",
       "    </tr>\n",
       "    <tr>\n",
       "      <th>448</th>\n",
       "      <td>2018</td>\n",
       "      <td>Satna</td>\n",
       "      <td>0.244</td>\n",
       "      <td>0.223</td>\n",
       "      <td>Mixed Red and Black</td>\n",
       "      <td>315</td>\n",
       "      <td>60.50</td>\n",
       "      <td>Tons Basin</td>\n",
       "      <td>784.2</td>\n",
       "      <td>34.25</td>\n",
       "      <td>27.25</td>\n",
       "      <td>30.50</td>\n",
       "      <td>914.0</td>\n",
       "    </tr>\n",
       "    <tr>\n",
       "      <th>449</th>\n",
       "      <td>2018</td>\n",
       "      <td>Shahdol</td>\n",
       "      <td>0.002</td>\n",
       "      <td>0.002</td>\n",
       "      <td>Red and Yellow Medium Black</td>\n",
       "      <td>464</td>\n",
       "      <td>72.25</td>\n",
       "      <td>Son Basin</td>\n",
       "      <td>886.5</td>\n",
       "      <td>31.00</td>\n",
       "      <td>24.25</td>\n",
       "      <td>27.00</td>\n",
       "      <td>1000.0</td>\n",
       "    </tr>\n",
       "    <tr>\n",
       "      <th>450</th>\n",
       "      <td>2018</td>\n",
       "      <td>Anuppur</td>\n",
       "      <td>0.001</td>\n",
       "      <td>0.001</td>\n",
       "      <td>Red and Yellow Medium Black</td>\n",
       "      <td>505</td>\n",
       "      <td>72.25</td>\n",
       "      <td>Son Basin</td>\n",
       "      <td>927.2</td>\n",
       "      <td>31.00</td>\n",
       "      <td>24.25</td>\n",
       "      <td>27.00</td>\n",
       "      <td>1000.0</td>\n",
       "    </tr>\n",
       "    <tr>\n",
       "      <th>451</th>\n",
       "      <td>2018</td>\n",
       "      <td>Dindori</td>\n",
       "      <td>0.095</td>\n",
       "      <td>0.084</td>\n",
       "      <td>Red and Yellow</td>\n",
       "      <td>640</td>\n",
       "      <td>75.25</td>\n",
       "      <td>Narmada Basin</td>\n",
       "      <td>1059.8</td>\n",
       "      <td>29.75</td>\n",
       "      <td>23.00</td>\n",
       "      <td>26.00</td>\n",
       "      <td>884.0</td>\n",
       "    </tr>\n",
       "    <tr>\n",
       "      <th>453</th>\n",
       "      <td>2019</td>\n",
       "      <td>Agar</td>\n",
       "      <td>1.380</td>\n",
       "      <td>1.039</td>\n",
       "      <td>Medium Black</td>\n",
       "      <td>527</td>\n",
       "      <td>75.21</td>\n",
       "      <td>Chambal Basin</td>\n",
       "      <td>992.0</td>\n",
       "      <td>31.20</td>\n",
       "      <td>24.61</td>\n",
       "      <td>27.24</td>\n",
       "      <td>0.0</td>\n",
       "    </tr>\n",
       "  </tbody>\n",
       "</table>\n",
       "<p>453 rows × 13 columns</p>\n",
       "</div>"
      ],
      "text/plain": [
       "     Year  District  Sowing Area(Lakh ha)  \\\n",
       "0    2010    Ujjain                 4.435   \n",
       "1    2010  Mandsaur                 2.580   \n",
       "2    2010   Neemuch                 1.250   \n",
       "3    2010    Ratlam                 2.046   \n",
       "4    2010     Dewas                 3.181   \n",
       "..    ...       ...                   ...   \n",
       "448  2018     Satna                 0.244   \n",
       "449  2018   Shahdol                 0.002   \n",
       "450  2018   Anuppur                 0.001   \n",
       "451  2018   Dindori                 0.095   \n",
       "453  2019      Agar                 1.380   \n",
       "\n",
       "     Estimated Production(Lakh metric tonnes)                   Soil_types  \\\n",
       "0                                       5.526                 Medium Black   \n",
       "1                                       2.830                 Medium Black   \n",
       "2                                       1.489                 Medium Black   \n",
       "3                                       2.508                 Medium Black   \n",
       "4                                       3.722                 Medium Black   \n",
       "..                                        ...                          ...   \n",
       "448                                     0.223          Mixed Red and Black   \n",
       "449                                     0.002  Red and Yellow Medium Black   \n",
       "450                                     0.001  Red and Yellow Medium Black   \n",
       "451                                     0.084               Red and Yellow   \n",
       "453                                     1.039                 Medium Black   \n",
       "\n",
       "     Altitude(m)  Humidity(%)         Basins  Rainfall(mm)  Max Temperature  \\\n",
       "0            494        70.75  Chambal Basin         713.5            32.50   \n",
       "1            440        67.25  Chambal Basin         676.8            33.75   \n",
       "2            452        65.25  Chambal Basin         821.7            33.75   \n",
       "3            480        70.50  Chambal Basin         689.0            33.25   \n",
       "4            535        72.50  Narmada Basin         785.1            32.25   \n",
       "..           ...          ...            ...           ...              ...   \n",
       "448          315        60.50     Tons Basin         784.2            34.25   \n",
       "449          464        72.25      Son Basin         886.5            31.00   \n",
       "450          505        72.25      Son Basin         927.2            31.00   \n",
       "451          640        75.25  Narmada Basin        1059.8            29.75   \n",
       "453          527        75.21  Chambal Basin         992.0            31.20   \n",
       "\n",
       "     Min Temperature  Avg Temperature  Expected Yield(kg/ha)  \n",
       "0              24.00            27.75                 1246.0  \n",
       "1              25.00            28.75                 1097.0  \n",
       "2              25.00            29.00                 1191.0  \n",
       "3              24.25            28.00                 1226.0  \n",
       "4              24.00            27.75                 1170.0  \n",
       "..               ...              ...                    ...  \n",
       "448            27.25            30.50                  914.0  \n",
       "449            24.25            27.00                 1000.0  \n",
       "450            24.25            27.00                 1000.0  \n",
       "451            23.00            26.00                  884.0  \n",
       "453            24.61            27.24                    0.0  \n",
       "\n",
       "[453 rows x 13 columns]"
      ]
     },
     "execution_count": 8,
     "metadata": {},
     "output_type": "execute_result"
    }
   ],
   "source": [
    "df"
   ]
  },
  {
   "cell_type": "code",
   "execution_count": 13,
   "metadata": {},
   "outputs": [
    {
     "ename": "KeyError",
     "evalue": "\"None of [Int64Index([452, 452, 452, 452, 452, 452, 452, 452, 452, 452, 452, 452, 452], dtype='int64')] are in the [index]\"",
     "output_type": "error",
     "traceback": [
      "\u001b[0;31m---------------------------------------------------------------------------\u001b[0m",
      "\u001b[0;31mKeyError\u001b[0m                                  Traceback (most recent call last)",
      "\u001b[0;32m<ipython-input-13-fc60925c8514>\u001b[0m in \u001b[0;36m<module>\u001b[0;34m()\u001b[0m\n\u001b[0;32m----> 1\u001b[0;31m \u001b[0mfinal\u001b[0m\u001b[0;34m=\u001b[0m\u001b[0minput_new\u001b[0m\u001b[0;34m(\u001b[0m\u001b[0mdf\u001b[0m\u001b[0;34m)\u001b[0m\u001b[0;34m\u001b[0m\u001b[0m\n\u001b[0m",
      "\u001b[0;32m<ipython-input-1-f870938e277b>\u001b[0m in \u001b[0;36minput_new\u001b[0;34m(data)\u001b[0m\n\u001b[1;32m     22\u001b[0m     \u001b[0;31m# Predicting a new result\u001b[0m\u001b[0;34m\u001b[0m\u001b[0;34m\u001b[0m\u001b[0m\n\u001b[1;32m     23\u001b[0m     \u001b[0my_pred\u001b[0m \u001b[0;34m=\u001b[0m \u001b[0mregressor\u001b[0m\u001b[0;34m.\u001b[0m\u001b[0mpredict\u001b[0m\u001b[0;34m(\u001b[0m\u001b[0;34m[\u001b[0m\u001b[0mX\u001b[0m\u001b[0;34m[\u001b[0m\u001b[0;34m-\u001b[0m\u001b[0;36m1\u001b[0m\u001b[0;34m]\u001b[0m\u001b[0;34m]\u001b[0m\u001b[0;34m)\u001b[0m\u001b[0;34m\u001b[0m\u001b[0m\n\u001b[0;32m---> 24\u001b[0;31m     \u001b[0mdata\u001b[0m\u001b[0;34m.\u001b[0m\u001b[0mloc\u001b[0m\u001b[0;34m[\u001b[0m\u001b[0mdata\u001b[0m\u001b[0;34m.\u001b[0m\u001b[0mcount\u001b[0m\u001b[0;34m(\u001b[0m\u001b[0;34m)\u001b[0m\u001b[0;34m-\u001b[0m\u001b[0;36m1\u001b[0m\u001b[0;34m,\u001b[0m\u001b[0;34m'Expected Yield(kg/ha)'\u001b[0m\u001b[0;34m]\u001b[0m\u001b[0;34m=\u001b[0m\u001b[0my_pred\u001b[0m\u001b[0;34m\u001b[0m\u001b[0m\n\u001b[0m\u001b[1;32m     25\u001b[0m \u001b[0;34m\u001b[0m\u001b[0m\n\u001b[1;32m     26\u001b[0m     \u001b[0;32mreturn\u001b[0m \u001b[0my_pred\u001b[0m\u001b[0;34m,\u001b[0m\u001b[0mdata\u001b[0m\u001b[0;34m\u001b[0m\u001b[0m\n",
      "\u001b[0;32m~/.local/lib/python3.6/site-packages/pandas/core/indexing.py\u001b[0m in \u001b[0;36m__setitem__\u001b[0;34m(self, key, value)\u001b[0m\n\u001b[1;32m    202\u001b[0m         \u001b[0;32melse\u001b[0m\u001b[0;34m:\u001b[0m\u001b[0;34m\u001b[0m\u001b[0m\n\u001b[1;32m    203\u001b[0m             \u001b[0mkey\u001b[0m \u001b[0;34m=\u001b[0m \u001b[0mcom\u001b[0m\u001b[0;34m.\u001b[0m\u001b[0mapply_if_callable\u001b[0m\u001b[0;34m(\u001b[0m\u001b[0mkey\u001b[0m\u001b[0;34m,\u001b[0m \u001b[0mself\u001b[0m\u001b[0;34m.\u001b[0m\u001b[0mobj\u001b[0m\u001b[0;34m)\u001b[0m\u001b[0;34m\u001b[0m\u001b[0m\n\u001b[0;32m--> 204\u001b[0;31m         \u001b[0mindexer\u001b[0m \u001b[0;34m=\u001b[0m \u001b[0mself\u001b[0m\u001b[0;34m.\u001b[0m\u001b[0m_get_setitem_indexer\u001b[0m\u001b[0;34m(\u001b[0m\u001b[0mkey\u001b[0m\u001b[0;34m)\u001b[0m\u001b[0;34m\u001b[0m\u001b[0m\n\u001b[0m\u001b[1;32m    205\u001b[0m         \u001b[0mself\u001b[0m\u001b[0;34m.\u001b[0m\u001b[0m_setitem_with_indexer\u001b[0m\u001b[0;34m(\u001b[0m\u001b[0mindexer\u001b[0m\u001b[0;34m,\u001b[0m \u001b[0mvalue\u001b[0m\u001b[0;34m)\u001b[0m\u001b[0;34m\u001b[0m\u001b[0m\n\u001b[1;32m    206\u001b[0m \u001b[0;34m\u001b[0m\u001b[0m\n",
      "\u001b[0;32m~/.local/lib/python3.6/site-packages/pandas/core/indexing.py\u001b[0m in \u001b[0;36m_get_setitem_indexer\u001b[0;34m(self, key)\u001b[0m\n\u001b[1;32m    180\u001b[0m         \u001b[0;32mif\u001b[0m \u001b[0misinstance\u001b[0m\u001b[0;34m(\u001b[0m\u001b[0mkey\u001b[0m\u001b[0;34m,\u001b[0m \u001b[0mtuple\u001b[0m\u001b[0;34m)\u001b[0m\u001b[0;34m:\u001b[0m\u001b[0;34m\u001b[0m\u001b[0m\n\u001b[1;32m    181\u001b[0m             \u001b[0;32mtry\u001b[0m\u001b[0;34m:\u001b[0m\u001b[0;34m\u001b[0m\u001b[0m\n\u001b[0;32m--> 182\u001b[0;31m                 \u001b[0;32mreturn\u001b[0m \u001b[0mself\u001b[0m\u001b[0;34m.\u001b[0m\u001b[0m_convert_tuple\u001b[0m\u001b[0;34m(\u001b[0m\u001b[0mkey\u001b[0m\u001b[0;34m,\u001b[0m \u001b[0mis_setter\u001b[0m\u001b[0;34m=\u001b[0m\u001b[0;32mTrue\u001b[0m\u001b[0;34m)\u001b[0m\u001b[0;34m\u001b[0m\u001b[0m\n\u001b[0m\u001b[1;32m    183\u001b[0m             \u001b[0;32mexcept\u001b[0m \u001b[0mIndexingError\u001b[0m\u001b[0;34m:\u001b[0m\u001b[0;34m\u001b[0m\u001b[0m\n\u001b[1;32m    184\u001b[0m                 \u001b[0;32mpass\u001b[0m\u001b[0;34m\u001b[0m\u001b[0m\n",
      "\u001b[0;32m~/.local/lib/python3.6/site-packages/pandas/core/indexing.py\u001b[0m in \u001b[0;36m_convert_tuple\u001b[0;34m(self, key, is_setter)\u001b[0m\n\u001b[1;32m    260\u001b[0m                 \u001b[0;32mif\u001b[0m \u001b[0mi\u001b[0m \u001b[0;34m>=\u001b[0m \u001b[0mself\u001b[0m\u001b[0;34m.\u001b[0m\u001b[0mobj\u001b[0m\u001b[0;34m.\u001b[0m\u001b[0mndim\u001b[0m\u001b[0;34m:\u001b[0m\u001b[0;34m\u001b[0m\u001b[0m\n\u001b[1;32m    261\u001b[0m                     \u001b[0;32mraise\u001b[0m \u001b[0mIndexingError\u001b[0m\u001b[0;34m(\u001b[0m\u001b[0;34m\"Too many indexers\"\u001b[0m\u001b[0;34m)\u001b[0m\u001b[0;34m\u001b[0m\u001b[0m\n\u001b[0;32m--> 262\u001b[0;31m                 \u001b[0midx\u001b[0m \u001b[0;34m=\u001b[0m \u001b[0mself\u001b[0m\u001b[0;34m.\u001b[0m\u001b[0m_convert_to_indexer\u001b[0m\u001b[0;34m(\u001b[0m\u001b[0mk\u001b[0m\u001b[0;34m,\u001b[0m \u001b[0maxis\u001b[0m\u001b[0;34m=\u001b[0m\u001b[0mi\u001b[0m\u001b[0;34m,\u001b[0m \u001b[0mis_setter\u001b[0m\u001b[0;34m=\u001b[0m\u001b[0mis_setter\u001b[0m\u001b[0;34m)\u001b[0m\u001b[0;34m\u001b[0m\u001b[0m\n\u001b[0m\u001b[1;32m    263\u001b[0m                 \u001b[0mkeyidx\u001b[0m\u001b[0;34m.\u001b[0m\u001b[0mappend\u001b[0m\u001b[0;34m(\u001b[0m\u001b[0midx\u001b[0m\u001b[0;34m)\u001b[0m\u001b[0;34m\u001b[0m\u001b[0m\n\u001b[1;32m    264\u001b[0m         \u001b[0;32mreturn\u001b[0m \u001b[0mtuple\u001b[0m\u001b[0;34m(\u001b[0m\u001b[0mkeyidx\u001b[0m\u001b[0;34m)\u001b[0m\u001b[0;34m\u001b[0m\u001b[0m\n",
      "\u001b[0;32m~/.local/lib/python3.6/site-packages/pandas/core/indexing.py\u001b[0m in \u001b[0;36m_convert_to_indexer\u001b[0;34m(self, obj, axis, is_setter, raise_missing)\u001b[0m\n\u001b[1;32m   1283\u001b[0m                 \u001b[0;31m# When setting, missing keys are not allowed, even with .loc:\u001b[0m\u001b[0;34m\u001b[0m\u001b[0;34m\u001b[0m\u001b[0m\n\u001b[1;32m   1284\u001b[0m                 \u001b[0mkwargs\u001b[0m \u001b[0;34m=\u001b[0m \u001b[0;34m{\u001b[0m\u001b[0;34m\"raise_missing\"\u001b[0m\u001b[0;34m:\u001b[0m \u001b[0;32mTrue\u001b[0m \u001b[0;32mif\u001b[0m \u001b[0mis_setter\u001b[0m \u001b[0;32melse\u001b[0m \u001b[0mraise_missing\u001b[0m\u001b[0;34m}\u001b[0m\u001b[0;34m\u001b[0m\u001b[0m\n\u001b[0;32m-> 1285\u001b[0;31m                 \u001b[0;32mreturn\u001b[0m \u001b[0mself\u001b[0m\u001b[0;34m.\u001b[0m\u001b[0m_get_listlike_indexer\u001b[0m\u001b[0;34m(\u001b[0m\u001b[0mobj\u001b[0m\u001b[0;34m,\u001b[0m \u001b[0maxis\u001b[0m\u001b[0;34m,\u001b[0m \u001b[0;34m**\u001b[0m\u001b[0mkwargs\u001b[0m\u001b[0;34m)\u001b[0m\u001b[0;34m[\u001b[0m\u001b[0;36m1\u001b[0m\u001b[0;34m]\u001b[0m\u001b[0;34m\u001b[0m\u001b[0m\n\u001b[0m\u001b[1;32m   1286\u001b[0m         \u001b[0;32melse\u001b[0m\u001b[0;34m:\u001b[0m\u001b[0;34m\u001b[0m\u001b[0m\n\u001b[1;32m   1287\u001b[0m             \u001b[0;32mtry\u001b[0m\u001b[0;34m:\u001b[0m\u001b[0;34m\u001b[0m\u001b[0m\n",
      "\u001b[0;32m~/.local/lib/python3.6/site-packages/pandas/core/indexing.py\u001b[0m in \u001b[0;36m_get_listlike_indexer\u001b[0;34m(self, key, axis, raise_missing)\u001b[0m\n\u001b[1;32m   1090\u001b[0m \u001b[0;34m\u001b[0m\u001b[0m\n\u001b[1;32m   1091\u001b[0m         self._validate_read_indexer(\n\u001b[0;32m-> 1092\u001b[0;31m             \u001b[0mkeyarr\u001b[0m\u001b[0;34m,\u001b[0m \u001b[0mindexer\u001b[0m\u001b[0;34m,\u001b[0m \u001b[0mo\u001b[0m\u001b[0;34m.\u001b[0m\u001b[0m_get_axis_number\u001b[0m\u001b[0;34m(\u001b[0m\u001b[0maxis\u001b[0m\u001b[0;34m)\u001b[0m\u001b[0;34m,\u001b[0m \u001b[0mraise_missing\u001b[0m\u001b[0;34m=\u001b[0m\u001b[0mraise_missing\u001b[0m\u001b[0;34m\u001b[0m\u001b[0m\n\u001b[0m\u001b[1;32m   1093\u001b[0m         )\n\u001b[1;32m   1094\u001b[0m         \u001b[0;32mreturn\u001b[0m \u001b[0mkeyarr\u001b[0m\u001b[0;34m,\u001b[0m \u001b[0mindexer\u001b[0m\u001b[0;34m\u001b[0m\u001b[0m\n",
      "\u001b[0;32m~/.local/lib/python3.6/site-packages/pandas/core/indexing.py\u001b[0m in \u001b[0;36m_validate_read_indexer\u001b[0;34m(self, key, indexer, axis, raise_missing)\u001b[0m\n\u001b[1;32m   1175\u001b[0m                 raise KeyError(\n\u001b[1;32m   1176\u001b[0m                     \"None of [{key}] are in the [{axis}]\".format(\n\u001b[0;32m-> 1177\u001b[0;31m                         \u001b[0mkey\u001b[0m\u001b[0;34m=\u001b[0m\u001b[0mkey\u001b[0m\u001b[0;34m,\u001b[0m \u001b[0maxis\u001b[0m\u001b[0;34m=\u001b[0m\u001b[0mself\u001b[0m\u001b[0;34m.\u001b[0m\u001b[0mobj\u001b[0m\u001b[0;34m.\u001b[0m\u001b[0m_get_axis_name\u001b[0m\u001b[0;34m(\u001b[0m\u001b[0maxis\u001b[0m\u001b[0;34m)\u001b[0m\u001b[0;34m\u001b[0m\u001b[0m\n\u001b[0m\u001b[1;32m   1178\u001b[0m                     )\n\u001b[1;32m   1179\u001b[0m                 )\n",
      "\u001b[0;31mKeyError\u001b[0m: \"None of [Int64Index([452, 452, 452, 452, 452, 452, 452, 452, 452, 452, 452, 452, 452], dtype='int64')] are in the [index]\""
     ]
    }
   ],
   "source": [
    "final=input_new(df)"
   ]
  },
  {
   "cell_type": "code",
   "execution_count": 10,
   "metadata": {},
   "outputs": [
    {
     "ename": "NameError",
     "evalue": "name 'final' is not defined",
     "output_type": "error",
     "traceback": [
      "\u001b[0;31m---------------------------------------------------------------------------\u001b[0m",
      "\u001b[0;31mNameError\u001b[0m                                 Traceback (most recent call last)",
      "\u001b[0;32m<ipython-input-10-c73f57a771f9>\u001b[0m in \u001b[0;36m<module>\u001b[0;34m()\u001b[0m\n\u001b[0;32m----> 1\u001b[0;31m \u001b[0mfinal\u001b[0m\u001b[0;34m\u001b[0m\u001b[0m\n\u001b[0m",
      "\u001b[0;31mNameError\u001b[0m: name 'final' is not defined"
     ]
    }
   ],
   "source": [
    "final"
   ]
  },
  {
   "cell_type": "code",
   "execution_count": 11,
   "metadata": {},
   "outputs": [
    {
     "ename": "NameError",
     "evalue": "name 'data' is not defined",
     "output_type": "error",
     "traceback": [
      "\u001b[0;31m---------------------------------------------------------------------------\u001b[0m",
      "\u001b[0;31mNameError\u001b[0m                                 Traceback (most recent call last)",
      "\u001b[0;32m<ipython-input-11-6137cde4893c>\u001b[0m in \u001b[0;36m<module>\u001b[0;34m()\u001b[0m\n\u001b[0;32m----> 1\u001b[0;31m \u001b[0mdata\u001b[0m\u001b[0;34m\u001b[0m\u001b[0m\n\u001b[0m",
      "\u001b[0;31mNameError\u001b[0m: name 'data' is not defined"
     ]
    }
   ],
   "source": [
    "data"
   ]
  },
  {
   "cell_type": "code",
   "execution_count": 12,
   "metadata": {},
   "outputs": [
    {
     "ename": "NameError",
     "evalue": "name 'data' is not defined",
     "output_type": "error",
     "traceback": [
      "\u001b[0;31m---------------------------------------------------------------------------\u001b[0m",
      "\u001b[0;31mNameError\u001b[0m                                 Traceback (most recent call last)",
      "\u001b[0;32m<ipython-input-12-d6210711a94e>\u001b[0m in \u001b[0;36m<module>\u001b[0;34m()\u001b[0m\n\u001b[0;32m----> 1\u001b[0;31m \u001b[0mdata\u001b[0m\u001b[0;34m.\u001b[0m\u001b[0mto_csv\u001b[0m\u001b[0;34m(\u001b[0m\u001b[0;34mr'/home/akash/soyabean/sawerdata/soybean2010-2018_final.csv'\u001b[0m\u001b[0;34m)\u001b[0m\u001b[0;34m\u001b[0m\u001b[0m\n\u001b[0m",
      "\u001b[0;31mNameError\u001b[0m: name 'data' is not defined"
     ]
    }
   ],
   "source": [
    "data.to_csv(r'/home/akash/soyabean/sawerdata/soybean2010-2018_final.csv')"
   ]
  },
  {
   "cell_type": "code",
   "execution_count": null,
   "metadata": {
    "collapsed": true
   },
   "outputs": [],
   "source": []
  },
  {
   "cell_type": "code",
   "execution_count": null,
   "metadata": {
    "collapsed": true
   },
   "outputs": [],
   "source": []
  },
  {
   "cell_type": "code",
   "execution_count": null,
   "metadata": {
    "collapsed": true
   },
   "outputs": [],
   "source": []
  }
 ],
 "metadata": {
  "kernelspec": {
   "display_name": "Python 3",
   "language": "python",
   "name": "python3"
  },
  "language_info": {
   "codemirror_mode": {
    "name": "ipython",
    "version": 3
   },
   "file_extension": ".py",
   "mimetype": "text/x-python",
   "name": "python",
   "nbconvert_exporter": "python",
   "pygments_lexer": "ipython3",
   "version": "3.6.3"
  }
 },
 "nbformat": 4,
 "nbformat_minor": 2
}
