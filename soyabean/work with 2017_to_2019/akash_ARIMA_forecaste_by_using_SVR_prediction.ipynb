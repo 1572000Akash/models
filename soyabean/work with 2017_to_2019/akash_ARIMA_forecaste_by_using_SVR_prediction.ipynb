{
 "cells": [
  {
   "cell_type": "markdown",
   "metadata": {},
   "source": [
    "# Time Series Forescasting"
   ]
  },
  {
   "cell_type": "code",
   "execution_count": 2,
   "metadata": {
    "collapsed": true
   },
   "outputs": [],
   "source": [
    "import pandas as pd\n",
    "from pandas import datetime\n",
    "import matplotlib.pyplot as plt"
   ]
  },
  {
   "cell_type": "code",
   "execution_count": 3,
   "metadata": {
    "collapsed": true
   },
   "outputs": [],
   "source": [
    "sales = pd.read_csv('SVR_prediction.csv',index_col=0, parse_dates=[0])"
   ]
  },
  {
   "cell_type": "code",
   "execution_count": 4,
   "metadata": {},
   "outputs": [
    {
     "data": {
      "text/html": [
       "<div>\n",
       "<style scoped>\n",
       "    .dataframe tbody tr th:only-of-type {\n",
       "        vertical-align: middle;\n",
       "    }\n",
       "\n",
       "    .dataframe tbody tr th {\n",
       "        vertical-align: top;\n",
       "    }\n",
       "\n",
       "    .dataframe thead th {\n",
       "        text-align: right;\n",
       "    }\n",
       "</style>\n",
       "<table border=\"1\" class=\"dataframe\">\n",
       "  <thead>\n",
       "    <tr style=\"text-align: right;\">\n",
       "      <th></th>\n",
       "      <th>Close_Price</th>\n",
       "    </tr>\n",
       "    <tr>\n",
       "      <th>Date</th>\n",
       "      <th></th>\n",
       "    </tr>\n",
       "  </thead>\n",
       "  <tbody>\n",
       "    <tr>\n",
       "      <th>2019-12-30</th>\n",
       "      <td>4408.702197</td>\n",
       "    </tr>\n",
       "    <tr>\n",
       "      <th>2019-12-31</th>\n",
       "      <td>4412.708262</td>\n",
       "    </tr>\n",
       "    <tr>\n",
       "      <th>2020-01-01</th>\n",
       "      <td>4410.553188</td>\n",
       "    </tr>\n",
       "    <tr>\n",
       "      <th>2020-01-02</th>\n",
       "      <td>4403.882699</td>\n",
       "    </tr>\n",
       "    <tr>\n",
       "      <th>2020-01-03</th>\n",
       "      <td>4388.986024</td>\n",
       "    </tr>\n",
       "  </tbody>\n",
       "</table>\n",
       "</div>"
      ],
      "text/plain": [
       "            Close_Price\n",
       "Date                   \n",
       "2019-12-30  4408.702197\n",
       "2019-12-31  4412.708262\n",
       "2020-01-01  4410.553188\n",
       "2020-01-02  4403.882699\n",
       "2020-01-03  4388.986024"
      ]
     },
     "execution_count": 4,
     "metadata": {},
     "output_type": "execute_result"
    }
   ],
   "source": [
    "sales.tail()"
   ]
  },
  {
   "cell_type": "code",
   "execution_count": 119,
   "metadata": {},
   "outputs": [
    {
     "data": {
      "text/plain": [
       "<matplotlib.axes._subplots.AxesSubplot at 0x7f594b0e0f98>"
      ]
     },
     "execution_count": 119,
     "metadata": {},
     "output_type": "execute_result"
    }
   ],
   "source": [
    "sales.plot()"
   ]
  },
  {
   "cell_type": "markdown",
   "metadata": {},
   "source": [
    "Stationary means mean, variance and covariance is constant over periods."
   ]
  },
  {
   "cell_type": "code",
   "execution_count": 120,
   "metadata": {},
   "outputs": [
    {
     "data": {
      "image/png": "[encoded data removed]",
      "text/plain": [
       "<Figure size 432x288 with 1 Axes>"
      ]
     },
     "execution_count": 120,
     "metadata": {},
     "output_type": "execute_result"
    }
   ],
   "source": [
    "from statsmodels.graphics.tsaplots import plot_acf\n",
    "plot_acf(sales)"
   ]
  },
  {
   "cell_type": "code",
   "execution_count": null,
   "metadata": {
    "collapsed": true
   },
   "outputs": [],
   "source": []
  },
  {
   "cell_type": "code",
   "execution_count": null,
   "metadata": {
    "collapsed": true
   },
   "outputs": [],
   "source": []
  },
  {
   "cell_type": "markdown",
   "metadata": {},
   "source": [
    "### Converting series to stationary"
   ]
  },
  {
   "cell_type": "code",
   "execution_count": null,
   "metadata": {
    "collapsed": true
   },
   "outputs": [],
   "source": []
  },
  {
   "cell_type": "code",
   "execution_count": 121,
   "metadata": {},
   "outputs": [
    {
     "data": {
      "text/html": [
       "<div>\n",
       "<style scoped>\n",
       "    .dataframe tbody tr th:only-of-type {\n",
       "        vertical-align: middle;\n",
       "    }\n",
       "\n",
       "    .dataframe tbody tr th {\n",
       "        vertical-align: top;\n",
       "    }\n",
       "\n",
       "    .dataframe thead th {\n",
       "        text-align: right;\n",
       "    }\n",
       "</style>\n",
       "<table border=\"1\" class=\"dataframe\">\n",
       "  <thead>\n",
       "    <tr style=\"text-align: right;\">\n",
       "      <th></th>\n",
       "      <th>Close_Price</th>\n",
       "    </tr>\n",
       "    <tr>\n",
       "      <th>Date</th>\n",
       "      <th></th>\n",
       "    </tr>\n",
       "  </thead>\n",
       "  <tbody>\n",
       "    <tr>\n",
       "      <th>2017-01-02</th>\n",
       "      <td>3090.624108</td>\n",
       "    </tr>\n",
       "    <tr>\n",
       "      <th>2017-01-03</th>\n",
       "      <td>3057.228836</td>\n",
       "    </tr>\n",
       "    <tr>\n",
       "      <th>2017-01-04</th>\n",
       "      <td>3025.788498</td>\n",
       "    </tr>\n",
       "    <tr>\n",
       "      <th>2017-01-05</th>\n",
       "      <td>3037.632078</td>\n",
       "    </tr>\n",
       "    <tr>\n",
       "      <th>2017-01-06</th>\n",
       "      <td>3038.944501</td>\n",
       "    </tr>\n",
       "  </tbody>\n",
       "</table>\n",
       "</div>"
      ],
      "text/plain": [
       "            Close_Price\n",
       "Date                   \n",
       "2017-01-02  3090.624108\n",
       "2017-01-03  3057.228836\n",
       "2017-01-04  3025.788498\n",
       "2017-01-05  3037.632078\n",
       "2017-01-06  3038.944501"
      ]
     },
     "execution_count": 121,
     "metadata": {},
     "output_type": "execute_result"
    }
   ],
   "source": [
    "sales.head()"
   ]
  },
  {
   "cell_type": "code",
   "execution_count": 122,
   "metadata": {},
   "outputs": [
    {
     "data": {
      "text/html": [
       "<div>\n",
       "<style scoped>\n",
       "    .dataframe tbody tr th:only-of-type {\n",
       "        vertical-align: middle;\n",
       "    }\n",
       "\n",
       "    .dataframe tbody tr th {\n",
       "        vertical-align: top;\n",
       "    }\n",
       "\n",
       "    .dataframe thead th {\n",
       "        text-align: right;\n",
       "    }\n",
       "</style>\n",
       "<table border=\"1\" class=\"dataframe\">\n",
       "  <thead>\n",
       "    <tr style=\"text-align: right;\">\n",
       "      <th></th>\n",
       "      <th>Close_Price</th>\n",
       "    </tr>\n",
       "    <tr>\n",
       "      <th>Date</th>\n",
       "      <th></th>\n",
       "    </tr>\n",
       "  </thead>\n",
       "  <tbody>\n",
       "    <tr>\n",
       "      <th>2017-01-02</th>\n",
       "      <td>NaN</td>\n",
       "    </tr>\n",
       "    <tr>\n",
       "      <th>2017-01-03</th>\n",
       "      <td>3090.624108</td>\n",
       "    </tr>\n",
       "    <tr>\n",
       "      <th>2017-01-04</th>\n",
       "      <td>3057.228836</td>\n",
       "    </tr>\n",
       "    <tr>\n",
       "      <th>2017-01-05</th>\n",
       "      <td>3025.788498</td>\n",
       "    </tr>\n",
       "    <tr>\n",
       "      <th>2017-01-06</th>\n",
       "      <td>3037.632078</td>\n",
       "    </tr>\n",
       "    <tr>\n",
       "      <th>...</th>\n",
       "      <td>...</td>\n",
       "    </tr>\n",
       "    <tr>\n",
       "      <th>2019-12-30</th>\n",
       "      <td>4411.382647</td>\n",
       "    </tr>\n",
       "    <tr>\n",
       "      <th>2019-12-31</th>\n",
       "      <td>4408.702197</td>\n",
       "    </tr>\n",
       "    <tr>\n",
       "      <th>2020-01-01</th>\n",
       "      <td>4412.708262</td>\n",
       "    </tr>\n",
       "    <tr>\n",
       "      <th>2020-01-02</th>\n",
       "      <td>4410.553188</td>\n",
       "    </tr>\n",
       "    <tr>\n",
       "      <th>2020-01-03</th>\n",
       "      <td>4403.882699</td>\n",
       "    </tr>\n",
       "  </tbody>\n",
       "</table>\n",
       "<p>682 rows × 1 columns</p>\n",
       "</div>"
      ],
      "text/plain": [
       "            Close_Price\n",
       "Date                   \n",
       "2017-01-02          NaN\n",
       "2017-01-03  3090.624108\n",
       "2017-01-04  3057.228836\n",
       "2017-01-05  3025.788498\n",
       "2017-01-06  3037.632078\n",
       "...                 ...\n",
       "2019-12-30  4411.382647\n",
       "2019-12-31  4408.702197\n",
       "2020-01-01  4412.708262\n",
       "2020-01-02  4410.553188\n",
       "2020-01-03  4403.882699\n",
       "\n",
       "[682 rows x 1 columns]"
      ]
     },
     "execution_count": 122,
     "metadata": {},
     "output_type": "execute_result"
    }
   ],
   "source": [
    "sales.shift(1)"
   ]
  },
  {
   "cell_type": "code",
   "execution_count": 123,
   "metadata": {
    "collapsed": true
   },
   "outputs": [],
   "source": [
    "sales_diff = sales.diff(periods=1)\n",
    "# integrated of order 1, denoted by d (for diff), one of the parameter of ARIMA model\n"
   ]
  },
  {
   "cell_type": "code",
   "execution_count": 124,
   "metadata": {},
   "outputs": [
    {
     "data": {
      "text/html": [
       "<div>\n",
       "<style scoped>\n",
       "    .dataframe tbody tr th:only-of-type {\n",
       "        vertical-align: middle;\n",
       "    }\n",
       "\n",
       "    .dataframe tbody tr th {\n",
       "        vertical-align: top;\n",
       "    }\n",
       "\n",
       "    .dataframe thead th {\n",
       "        text-align: right;\n",
       "    }\n",
       "</style>\n",
       "<table border=\"1\" class=\"dataframe\">\n",
       "  <thead>\n",
       "    <tr style=\"text-align: right;\">\n",
       "      <th></th>\n",
       "      <th>Close_Price</th>\n",
       "    </tr>\n",
       "    <tr>\n",
       "      <th>Date</th>\n",
       "      <th></th>\n",
       "    </tr>\n",
       "  </thead>\n",
       "  <tbody>\n",
       "    <tr>\n",
       "      <th>2017-01-03</th>\n",
       "      <td>-33.395272</td>\n",
       "    </tr>\n",
       "    <tr>\n",
       "      <th>2017-01-04</th>\n",
       "      <td>-31.440338</td>\n",
       "    </tr>\n",
       "    <tr>\n",
       "      <th>2017-01-05</th>\n",
       "      <td>11.843579</td>\n",
       "    </tr>\n",
       "    <tr>\n",
       "      <th>2017-01-06</th>\n",
       "      <td>1.312423</td>\n",
       "    </tr>\n",
       "    <tr>\n",
       "      <th>2017-01-09</th>\n",
       "      <td>-42.274864</td>\n",
       "    </tr>\n",
       "  </tbody>\n",
       "</table>\n",
       "</div>"
      ],
      "text/plain": [
       "            Close_Price\n",
       "Date                   \n",
       "2017-01-03   -33.395272\n",
       "2017-01-04   -31.440338\n",
       "2017-01-05    11.843579\n",
       "2017-01-06     1.312423\n",
       "2017-01-09   -42.274864"
      ]
     },
     "execution_count": 124,
     "metadata": {},
     "output_type": "execute_result"
    }
   ],
   "source": [
    "sales_diff = sales_diff[1:]\n",
    "sales_diff.head()"
   ]
  },
  {
   "cell_type": "code",
   "execution_count": 125,
   "metadata": {},
   "outputs": [
    {
     "data": {
      "image/png": "[encoded data removed]",
      "text/plain": [
       "<Figure size 432x288 with 1 Axes>"
      ]
     },
     "execution_count": 125,
     "metadata": {},
     "output_type": "execute_result"
    }
   ],
   "source": [
    "plot_acf(sales_diff)"
   ]
  },
  {
   "cell_type": "code",
   "execution_count": 126,
   "metadata": {},
   "outputs": [
    {
     "data": {
      "text/plain": [
       "<matplotlib.axes._subplots.AxesSubplot at 0x7f594ab51b70>"
      ]
     },
     "execution_count": 126,
     "metadata": {},
     "output_type": "execute_result"
    }
   ],
   "source": [
    "sales_diff.plot()"
   ]
  },
  {
   "cell_type": "code",
   "execution_count": 127,
   "metadata": {
    "collapsed": true
   },
   "outputs": [],
   "source": [
    "X = sales.values\n",
    "train = X[0:660] # 27 data as train data\n",
    "test = X[660:]  # 9 data as test data\n",
    "predictions = []"
   ]
  },
  {
   "cell_type": "code",
   "execution_count": 128,
   "metadata": {},
   "outputs": [
    {
     "data": {
      "text/plain": [
       "660"
      ]
     },
     "execution_count": 128,
     "metadata": {},
     "output_type": "execute_result"
    }
   ],
   "source": [
    "train.size"
   ]
  },
  {
   "cell_type": "markdown",
   "metadata": {},
   "source": [
    "# Autoreggresive AR Model"
   ]
  },
  {
   "cell_type": "code",
   "execution_count": null,
   "metadata": {
    "collapsed": true
   },
   "outputs": [],
   "source": []
  },
  {
   "cell_type": "code",
   "execution_count": 129,
   "metadata": {
    "collapsed": true
   },
   "outputs": [],
   "source": [
    "from statsmodels.tsa.ar_model import AR\n",
    "from sklearn.metrics import mean_squared_error\n",
    "model_ar = AR(train)\n",
    "model_ar_fit = model_ar.fit()"
   ]
  },
  {
   "cell_type": "code",
   "execution_count": 130,
   "metadata": {
    "collapsed": true
   },
   "outputs": [],
   "source": [
    "predictions = model_ar_fit.predict(start=660,end=675)"
   ]
  },
  {
   "cell_type": "code",
   "execution_count": 131,
   "metadata": {},
   "outputs": [
    {
     "data": {
      "text/plain": [
       "array([[4140.22192513],\n",
       "       [4132.13389737],\n",
       "       [4156.41719038],\n",
       "       [4204.754951  ],\n",
       "       [4210.06377219],\n",
       "       [4223.24595796],\n",
       "       [4307.01684154],\n",
       "       [4236.27375605],\n",
       "       [4278.95446144],\n",
       "       [4338.8156599 ],\n",
       "       [4336.82708796],\n",
       "       [4379.79024302],\n",
       "       [4375.44097221],\n",
       "       [4409.89931632],\n",
       "       [4412.47516657],\n",
       "       [4410.92732012],\n",
       "       [4411.38264734],\n",
       "       [4408.7021975 ],\n",
       "       [4412.70826163],\n",
       "       [4410.55318783],\n",
       "       [4403.88269894],\n",
       "       [4388.98602446]])"
      ]
     },
     "execution_count": 131,
     "metadata": {},
     "output_type": "execute_result"
    }
   ],
   "source": [
    "test"
   ]
  },
  {
   "cell_type": "code",
   "execution_count": 132,
   "metadata": {},
   "outputs": [
    {
     "data": {
      "text/plain": [
       "array([4132.10570244, 4138.16068267, 4136.52434713, 4134.83305032,\n",
       "       4124.65929475, 4126.10811512, 4128.04303988, 4133.22930803,\n",
       "       4131.6023332 , 4129.91081095, 4126.65164798, 4124.26061753,\n",
       "       4126.26977672, 4121.19313729, 4124.0733628 , 4123.23177016])"
      ]
     },
     "execution_count": 132,
     "metadata": {},
     "output_type": "execute_result"
    }
   ],
   "source": [
    "predictions"
   ]
  },
  {
   "cell_type": "code",
   "execution_count": 133,
   "metadata": {},
   "outputs": [
    {
     "data": {
      "text/plain": [
       "[<matplotlib.lines.Line2D at 0x7f594b149f28>]"
      ]
     },
     "execution_count": 133,
     "metadata": {},
     "output_type": "execute_result"
    }
   ],
   "source": [
    "plt.plot(test)\n",
    "plt.plot(predictions,color='red')"
   ]
  },
  {
   "cell_type": "code",
   "execution_count": 134,
   "metadata": {},
   "outputs": [
    {
     "data": {
      "text/plain": [
       "<matplotlib.axes._subplots.AxesSubplot at 0x7f594ad92048>"
      ]
     },
     "execution_count": 134,
     "metadata": {},
     "output_type": "execute_result"
    }
   ],
   "source": [
    "sales.plot()"
   ]
  },
  {
   "cell_type": "markdown",
   "metadata": {},
   "source": [
    "# ARIMA model"
   ]
  },
  {
   "cell_type": "code",
   "execution_count": 135,
   "metadata": {
    "collapsed": true
   },
   "outputs": [],
   "source": [
    "from statsmodels.tsa.arima_model import ARIMA"
   ]
  },
  {
   "cell_type": "code",
   "execution_count": 136,
   "metadata": {
    "collapsed": true
   },
   "outputs": [],
   "source": [
    "import itertools\n",
    "p=d=q=range(0,5)\n",
    "pdq = list(itertools.product(p,d,q))\n",
    "pdq\n",
    "l=[]"
   ]
  },
  {
   "cell_type": "code",
   "execution_count": 137,
   "metadata": {},
   "outputs": [
    {
     "name": "stdout",
     "output_type": "stream",
     "text": [
      "(0, 0, 0) None\n",
      "(0, 0, 1) None\n",
      "(0, 0, 2) None\n",
      "(0, 0, 3) None\n",
      "(0, 0, 4) None\n",
      "(0, 1, 0) None\n",
      "(0, 1, 1) None\n",
      "(0, 1, 2) None\n",
      "(0, 1, 3) None\n",
      "(0, 1, 4) None\n",
      "(0, 2, 0) None\n",
      "(0, 2, 1) None\n",
      "(1, 0, 0) None\n",
      "(1, 0, 1) None\n",
      "(1, 0, 2) None\n",
      "(1, 0, 3) None\n",
      "(1, 0, 4) None\n",
      "(1, 1, 0) None\n",
      "(1, 1, 1) None\n",
      "(1, 2, 0) None\n",
      "(1, 2, 1) None\n",
      "(1, 2, 2) None\n",
      "(1, 2, 3) None\n",
      "(1, 2, 4) None\n",
      "(2, 0, 0) None\n",
      "(2, 0, 1) None\n",
      "(2, 1, 0) None\n",
      "(2, 1, 1) None\n",
      "(2, 1, 2) None\n",
      "(2, 2, 0) None\n",
      "(2, 2, 1) None\n",
      "(2, 2, 2) None\n",
      "(2, 2, 3) None\n",
      "(2, 2, 4) None\n",
      "(3, 0, 0) None\n",
      "(3, 0, 1) None\n",
      "(3, 0, 2) None\n",
      "(3, 1, 0) None\n",
      "(3, 1, 1) None\n",
      "(3, 1, 2) None\n",
      "(3, 1, 3) None\n",
      "(3, 2, 0) None\n",
      "(3, 2, 1) None\n",
      "(3, 2, 2) None\n",
      "(3, 2, 3) None\n",
      "(3, 2, 4) None\n",
      "(4, 0, 0) None\n",
      "(4, 0, 1) None\n",
      "(4, 0, 2) None\n",
      "(4, 0, 3) None\n",
      "(4, 1, 0) None\n",
      "(4, 1, 1) None\n",
      "(4, 1, 2) None\n",
      "(4, 1, 3) None\n",
      "(4, 1, 4) None\n",
      "(4, 2, 0) None\n",
      "(4, 2, 1) None\n",
      "(4, 2, 2) None\n",
      "(4, 2, 3) None\n",
      "(4, 2, 4) None\n"
     ]
    }
   ],
   "source": [
    "import warnings\n",
    "warnings.filterwarnings('ignore')\n",
    "for param in pdq:\n",
    "    try:\n",
    "        model_arima = ARIMA(train,order=param)\n",
    "        model_arima_fit = model_arima.fit()\n",
    "        print(param,l.append(model_arima_fit.aic))\n",
    "    except:\n",
    "        continue    "
   ]
  },
  {
   "cell_type": "code",
   "execution_count": 138,
   "metadata": {},
   "outputs": [
    {
     "data": {
      "text/plain": [
       "[9700.637281600126,\n",
       " 8898.147107271043,\n",
       " 8361.344228217955,\n",
       " 8009.029772808461,\n",
       " 7765.140036470759,\n",
       " 6890.9418417299885,\n",
       " 6885.984368696991,\n",
       " 6887.954956378278,\n",
       " 6889.560018931319,\n",
       " 6890.679537678265,\n",
       " 7400.649590692192,\n",
       " 6889.404644637808,\n",
       " 6907.188640425311,\n",
       " 6902.881731456851,\n",
       " 6904.876907877659,\n",
       " 6906.3191981053915,\n",
       " 6907.65104146142,\n",
       " 6886.179232237273,\n",
       " 6887.964203537173,\n",
       " 7174.635127794668,\n",
       " 6884.7213821170335,\n",
       " 6886.522983107061,\n",
       " 6887.203944089107,\n",
       " 6889.061359525527,\n",
       " 6903.010288078691,\n",
       " 6904.878675713753,\n",
       " 6887.861811424758,\n",
       " 6888.545191932122,\n",
       " 6890.521110317695,\n",
       " 7072.732746144066,\n",
       " 6886.42401330852,\n",
       " 6887.101618053388,\n",
       " 6889.07217393898,\n",
       " 6891.060085752104,\n",
       " 6904.799321275177,\n",
       " 6905.452803710359,\n",
       " 6907.391440609605,\n",
       " 6889.367309167388,\n",
       " 6890.589912746766,\n",
       " 6892.173667254821,\n",
       " 6894.506278942581,\n",
       " 7036.608253587923,\n",
       " 6887.902379558274,\n",
       " 6889.146838874198,\n",
       " 6888.8092565545,\n",
       " 6892.89504337203,\n",
       " 6906.150952314454,\n",
       " 6907.3813116772235,\n",
       " 6912.516699477737,\n",
       " 6912.639405670008,\n",
       " 6890.915138985109,\n",
       " 6891.899988016723,\n",
       " 6893.886286830333,\n",
       " 6892.964901635931,\n",
       " 6894.2143920949675,\n",
       " 7012.581535486676,\n",
       " 6889.477966530617,\n",
       " 6890.994602371219,\n",
       " 6890.613110549671,\n",
       " 6890.414219876678]"
      ]
     },
     "execution_count": 138,
     "metadata": {},
     "output_type": "execute_result"
    }
   ],
   "source": [
    "l"
   ]
  },
  {
   "cell_type": "code",
   "execution_count": 139,
   "metadata": {
    "scrolled": true
   },
   "outputs": [
    {
     "name": "stdout",
     "output_type": "stream",
     "text": [
      "6884.7213821170335\n"
     ]
    }
   ],
   "source": [
    "#p,d,q  p = periods taken for autoregressive model\n",
    "#d -> Integrated order, difference\n",
    "# q periods in moving average model\n",
    "model_arima = ARIMA(train,order=(1,2,1))\n",
    "model_arima_fit = model_arima.fit(disp=0)\n",
    "print(model_arima_fit.aic)"
   ]
  },
  {
   "cell_type": "code",
   "execution_count": 140,
   "metadata": {},
   "outputs": [
    {
     "data": {
      "text/plain": [
       "array([4142.35403157, 4146.1627048 , 4150.08168903, 4153.99725012,\n",
       "       4157.92082619, 4161.85126691, 4165.78868797, 4169.73307775,\n",
       "       4173.6844374 , 4177.64276682, 4181.60806601, 4185.58033498,\n",
       "       4189.55957371, 4193.54578222, 4197.5389605 , 4201.53910855,\n",
       "       4205.54622638, 4209.56031398, 4213.58137135, 4217.6093985 ,\n",
       "       4221.64439541, 4225.6863621 , 4229.73529856, 4233.7912048 ,\n",
       "       4237.85408081, 4241.92392659, 4246.00074214, 4250.08452746,\n",
       "       4254.17528256, 4258.27300743, 4262.37770208, 4266.48936649,\n",
       "       4270.60800068, 4274.73360464, 4278.86617838, 4283.00572188,\n",
       "       4287.15223516, 4291.30571821, 4295.46617104, 4299.63359363,\n",
       "       4303.807986  , 4307.98934815, 4312.17768006, 4316.37298175,\n",
       "       4320.57525321, 4324.78449444, 4329.00070545, 4333.22388623,\n",
       "       4337.45403678, 4341.6911571 , 4345.9352472 , 4350.18630706,\n",
       "       4354.44433671, 4358.70933612, 4362.98130531, 4367.26024427,\n",
       "       4371.546153  , 4375.8390315 , 4380.13887978, 4384.44569783,\n",
       "       4388.75948565, 4393.08024325, 4397.40797061, 4401.74266775,\n",
       "       4406.08433467, 4410.43297135, 4414.78857781, 4419.15115404,\n",
       "       4423.52070005, 4427.89721582, 4432.28070137, 4436.67115669,\n",
       "       4441.06858179, 4445.47297665, 4449.88434129, 4454.3026757 ,\n",
       "       4458.72797989, 4463.16025385, 4467.59949758, 4472.04571108,\n",
       "       4476.49889435, 4480.9590474 , 4485.42617022, 4489.90026281,\n",
       "       4494.38132518, 4498.86935732, 4503.36435923, 4507.86633091,\n",
       "       4512.37527237, 4516.8911836 , 4521.4140646 , 4525.94391537,\n",
       "       4530.48073592, 4535.02452624, 4539.57528633, 4544.1330162 ,\n",
       "       4548.69771583, 4553.26938524, 4557.84802443, 4562.43363338])"
      ]
     },
     "execution_count": 140,
     "metadata": {},
     "output_type": "execute_result"
    }
   ],
   "source": [
    "#prediction= model_arima.predict(test)\n",
    "predictions= model_arima_fit.forecast(steps=100)[0]\n",
    "predictions\n",
    "#prediction"
   ]
  },
  {
   "cell_type": "code",
   "execution_count": 103,
   "metadata": {},
   "outputs": [
    {
     "data": {
      "image/png": "[encoded data removed]",
      "text/plain": [
       "<Figure size 720x432 with 1 Axes>"
      ]
     },
     "metadata": {},
     "output_type": "display_data"
    }
   ],
   "source": [
    "import matplotlib.pyplot as plt\n",
    "plt.figure(figsize=(10,6))\n",
    "plt.plot(train,label='actual_data',color='blue')\n",
    "plt.plot(predictions,label='forecaste',color='red')\n",
    "plt.plot(test,label='test',color='green')\n",
    "#plt.title(\" polt data between actual price and predict price by SVR\")\n",
    "plt.legend()\n",
    "plt.show()"
   ]
  },
  {
   "cell_type": "markdown",
   "metadata": {},
   "source": [
    "# exponential smoothing"
   ]
  },
  {
   "cell_type": "code",
   "execution_count": 159,
   "metadata": {
    "collapsed": true
   },
   "outputs": [],
   "source": [
    "from statsmodels.tsa.statespace.sarimax import SARIMAX\n",
    "from statsmodels.tsa.api import ExponentialSmoothing\n",
    "import numpy as np"
   ]
  },
  {
   "cell_type": "code",
   "execution_count": 160,
   "metadata": {
    "collapsed": true
   },
   "outputs": [],
   "source": [
    "data= pd.read_csv('SVR_prediction.csv')"
   ]
  },
  {
   "cell_type": "code",
   "execution_count": 161,
   "metadata": {},
   "outputs": [
    {
     "data": {
      "text/html": [
       "<div>\n",
       "<style scoped>\n",
       "    .dataframe tbody tr th:only-of-type {\n",
       "        vertical-align: middle;\n",
       "    }\n",
       "\n",
       "    .dataframe tbody tr th {\n",
       "        vertical-align: top;\n",
       "    }\n",
       "\n",
       "    .dataframe thead th {\n",
       "        text-align: right;\n",
       "    }\n",
       "</style>\n",
       "<table border=\"1\" class=\"dataframe\">\n",
       "  <thead>\n",
       "    <tr style=\"text-align: right;\">\n",
       "      <th></th>\n",
       "      <th>Date</th>\n",
       "      <th>Close_Price</th>\n",
       "    </tr>\n",
       "  </thead>\n",
       "  <tbody>\n",
       "    <tr>\n",
       "      <th>0</th>\n",
       "      <td>2-Jan-17</td>\n",
       "      <td>3090.624108</td>\n",
       "    </tr>\n",
       "    <tr>\n",
       "      <th>1</th>\n",
       "      <td>3-Jan-17</td>\n",
       "      <td>3057.228836</td>\n",
       "    </tr>\n",
       "    <tr>\n",
       "      <th>2</th>\n",
       "      <td>4-Jan-17</td>\n",
       "      <td>3025.788498</td>\n",
       "    </tr>\n",
       "    <tr>\n",
       "      <th>3</th>\n",
       "      <td>5-Jan-17</td>\n",
       "      <td>3037.632078</td>\n",
       "    </tr>\n",
       "    <tr>\n",
       "      <th>4</th>\n",
       "      <td>6-Jan-17</td>\n",
       "      <td>3038.944501</td>\n",
       "    </tr>\n",
       "  </tbody>\n",
       "</table>\n",
       "</div>"
      ],
      "text/plain": [
       "       Date  Close_Price\n",
       "0  2-Jan-17  3090.624108\n",
       "1  3-Jan-17  3057.228836\n",
       "2  4-Jan-17  3025.788498\n",
       "3  5-Jan-17  3037.632078\n",
       "4  6-Jan-17  3038.944501"
      ]
     },
     "execution_count": 161,
     "metadata": {},
     "output_type": "execute_result"
    }
   ],
   "source": [
    "data.head()"
   ]
  },
  {
   "cell_type": "code",
   "execution_count": 162,
   "metadata": {},
   "outputs": [
    {
     "data": {
      "text/plain": [
       "DatetimeIndex(['2017-02-01', '2017-03-01', '2017-04-01', '2017-05-01',\n",
       "               '2017-06-01'],\n",
       "              dtype='datetime64[ns]', freq='MS')"
      ]
     },
     "execution_count": 162,
     "metadata": {},
     "output_type": "execute_result"
    }
   ],
   "source": [
    "dates = pd.date_range(start='2017-01-02', freq='MS', periods=len(data))\n",
    "dates[0:5]"
   ]
  },
  {
   "cell_type": "code",
   "execution_count": 163,
   "metadata": {
    "collapsed": true
   },
   "outputs": [],
   "source": [
    "data.set_index(dates,inplace=True)\n",
    "data.drop('Date',axis=1,inplace=True)"
   ]
  },
  {
   "cell_type": "code",
   "execution_count": 164,
   "metadata": {
    "collapsed": true
   },
   "outputs": [],
   "source": [
    "train_len = int(np.ceil(len(data) * 0.75))\n",
    "train=data[0:train_len] \n",
    "test=data[train_len:]"
   ]
  },
  {
   "cell_type": "code",
   "execution_count": 166,
   "metadata": {},
   "outputs": [
    {
     "data": {
      "text/plain": [
       "{'damping_slope': nan,\n",
       " 'initial_level': 3271.246200563238,\n",
       " 'initial_seasons': array([-218.94851382, -219.11470283, -222.14560014, -216.37513425,\n",
       "        -220.75972319, -214.94993562, -216.63076148, -214.70717932,\n",
       "        -217.6932237 , -214.26260452, -217.70587375, -214.83708348]),\n",
       " 'initial_slope': 0.9711757834562381,\n",
       " 'lamda': None,\n",
       " 'remove_bias': False,\n",
       " 'smoothing_level': 0.8511254983508509,\n",
       " 'smoothing_seasonal': 9.818737070080356e-61,\n",
       " 'smoothing_slope': 1.812878661249647e-82,\n",
       " 'use_boxcox': False}"
      ]
     },
     "execution_count": 166,
     "metadata": {},
     "output_type": "execute_result"
    }
   ],
   "source": [
    "\n",
    "fit1 = ExponentialSmoothing(np.asarray(train['Close_Price']) ,seasonal_periods=12 ,trend='add', seasonal='add').fit()\n",
    "fit1.params"
   ]
  },
  {
   "cell_type": "code",
   "execution_count": 169,
   "metadata": {
    "collapsed": true
   },
   "outputs": [],
   "source": [
    "Forecasting = fit1.forecast(steps=17)"
   ]
  },
  {
   "cell_type": "code",
   "execution_count": 170,
   "metadata": {},
   "outputs": [
    {
     "data": {
      "text/plain": [
       "array([3692.24933868, 3696.65113364, 3694.1790402 , 3698.01900625,\n",
       "       3694.87875169, 3695.68373847, 3693.62401694, 3700.36565861,\n",
       "       3696.95224546, 3703.73320881, 3703.02355874, 3705.91831667,\n",
       "       3703.90344808, 3708.30524304, 3705.8331496 , 3709.67311565,\n",
       "       3706.53286109])"
      ]
     },
     "execution_count": 170,
     "metadata": {},
     "output_type": "execute_result"
    }
   ],
   "source": [
    "Forecasting"
   ]
  },
  {
   "cell_type": "code",
   "execution_count": null,
   "metadata": {
    "collapsed": true
   },
   "outputs": [],
   "source": []
  }
 ],
 "metadata": {
  "kernelspec": {
   "display_name": "Python 3",
   "language": "python",
   "name": "python3"
  },
  "language_info": {
   "codemirror_mode": {
    "name": "ipython",
    "version": 3
   },
   "file_extension": ".py",
   "mimetype": "text/x-python",
   "name": "python",
   "nbconvert_exporter": "python",
   "pygments_lexer": "ipython3",
   "version": "3.6.3"
  }
 },
 "nbformat": 4,
 "nbformat_minor": 2
}
